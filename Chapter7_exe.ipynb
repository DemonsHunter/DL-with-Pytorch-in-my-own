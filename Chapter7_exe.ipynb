{
  "nbformat": 4,
  "nbformat_minor": 0,
  "metadata": {
    "colab": {
      "name": "Chapter7-exe.ipynb",
      "provenance": []
    },
    "kernelspec": {
      "name": "python3",
      "display_name": "Python 3"
    }
  },
  "cells": [
    {
      "cell_type": "markdown",
      "metadata": {
        "id": "NsBFIqmXClvh"
      },
      "source": [
        "# figure out how to random crop the data"
      ]
    },
    {
      "cell_type": "code",
      "metadata": {
        "colab": {
          "base_uri": "https://localhost:8080/"
        },
        "id": "YjpF2yXRyc82",
        "outputId": "16ba51a0-92fa-4e10-8a6c-aec4a9952d40"
      },
      "source": [
        "from torchvision import datasets\r\n",
        "import torch, torch.nn as nn, torch.optim as optim\r\n",
        "import torchvision\r\n",
        "data_path = '/content/drive/MyDrive'\r\n",
        "transform = torchvision.transforms.RandomCrop(28, padding=0, pad_if_needed=True)\r\n",
        "\r\n",
        "cifar10 = datasets.CIFAR10(data_path, train = True, download = True, transform = transform)"
      ],
      "execution_count": null,
      "outputs": [
        {
          "output_type": "stream",
          "text": [
            "Files already downloaded and verified\n"
          ],
          "name": "stdout"
        }
      ]
    },
    {
      "cell_type": "code",
      "metadata": {
        "colab": {
          "base_uri": "https://localhost:8080/"
        },
        "id": "h_5R48VA0ceJ",
        "outputId": "19639eb3-e4ea-4adb-aaec-b966f4bd42bc"
      },
      "source": [
        "cifar10_val = datasets.CIFAR10(data_path, train = False, download = True,transform = transform)"
      ],
      "execution_count": null,
      "outputs": [
        {
          "output_type": "stream",
          "text": [
            "Files already downloaded and verified\n"
          ],
          "name": "stdout"
        }
      ]
    },
    {
      "cell_type": "code",
      "metadata": {
        "colab": {
          "base_uri": "https://localhost:8080/",
          "height": 265
        },
        "id": "lmj2-f6a0n15",
        "outputId": "33fd1696-e375-4a64-edf7-3c784989eeb9"
      },
      "source": [
        "from matplotlib import pyplot as plt\r\n",
        "img, _ = cifar10[1]\r\n",
        "plt.imshow(img)\r\n",
        "plt.show()"
      ],
      "execution_count": null,
      "outputs": [
        {
          "output_type": "display_data",
          "data": {
            "image/png": "[encoded data removed]",
            "text/plain": [
              "<Figure size 432x288 with 1 Axes>"
            ]
          },
          "metadata": {
            "tags": [],
            "needs_background": "light"
          }
        }
      ]
    },
    {
      "cell_type": "code",
      "metadata": {
        "colab": {
          "base_uri": "https://localhost:8080/"
        },
        "id": "plidlSI--hjn",
        "outputId": "9b091af5-1ff6-44aa-8b25-7059b89c62d1"
      },
      "source": [
        "img.size"
      ],
      "execution_count": null,
      "outputs": [
        {
          "output_type": "execute_result",
          "data": {
            "text/plain": [
              "(28, 28)"
            ]
          },
          "metadata": {
            "tags": []
          },
          "execution_count": 32
        }
      ]
    },
    {
      "cell_type": "code",
      "metadata": {
        "colab": {
          "base_uri": "https://localhost:8080/",
          "height": 265
        },
        "id": "qrOpEB3N9C8x",
        "outputId": "e8761e7e-a793-4892-842e-bd3e73a448cc"
      },
      "source": [
        "img, _ = cifar10[1]\r\n",
        "plt.imshow(img)\r\n",
        "plt.show()"
      ],
      "execution_count": null,
      "outputs": [
        {
          "output_type": "display_data",
          "data": {
            "image/png": "[encoded data removed]",
            "text/plain": [
              "<Figure size 432x288 with 1 Axes>"
            ]
          },
          "metadata": {
            "tags": [],
            "needs_background": "light"
          }
        }
      ]
    },
    {
      "cell_type": "code",
      "metadata": {
        "colab": {
          "base_uri": "https://localhost:8080/"
        },
        "id": "3P0F2ok6_ecI",
        "outputId": "ee224799-c65e-406b-d71f-53423ecbd75c"
      },
      "source": [
        "img.size"
      ],
      "execution_count": null,
      "outputs": [
        {
          "output_type": "execute_result",
          "data": {
            "text/plain": [
              "(28, 28)"
            ]
          },
          "metadata": {
            "tags": []
          },
          "execution_count": 34
        }
      ]
    },
    {
      "cell_type": "markdown",
      "metadata": {
        "id": "eEDfG2rECzF5"
      },
      "source": [
        "# 首先计算原始图像的均值和方差，并归一化"
      ]
    },
    {
      "cell_type": "code",
      "metadata": {
        "id": "DxsHtCAb_xBq"
      },
      "source": [
        "from torchvision import transforms\r\n",
        "to_tensor = transforms.ToTensor()"
      ],
      "execution_count": null,
      "outputs": []
    },
    {
      "cell_type": "code",
      "metadata": {
        "id": "fnYums3z_hLl"
      },
      "source": [
        "pic = torch.stack([to_tensor(img) for img, _ in cifar10 ], dim=3)"
      ],
      "execution_count": null,
      "outputs": []
    },
    {
      "cell_type": "code",
      "metadata": {
        "id": "GT86CqvW_hOf"
      },
      "source": [
        "mean=pic.view(3, -1).mean(-1)"
      ],
      "execution_count": null,
      "outputs": []
    },
    {
      "cell_type": "code",
      "metadata": {
        "id": "ZxatGn2n_hRD"
      },
      "source": [
        "std=pic.view(3, -1).std(-1)"
      ],
      "execution_count": null,
      "outputs": []
    },
    {
      "cell_type": "code",
      "metadata": {
        "colab": {
          "base_uri": "https://localhost:8080/"
        },
        "id": "kJpTRXj7BJUI",
        "outputId": "9245135c-c823-4442-d9c7-1b341dd26e05"
      },
      "source": [
        "transformed_cifar10 = datasets.CIFAR10(data_path, train=True, download=True,\r\n",
        "  transform = transforms.Compose(\r\n",
        "      [ transform,\r\n",
        "       to_tensor,\r\n",
        "       transforms.Normalize(mean, std)\r\n",
        "      ]\r\n",
        "  )                                       \r\n",
        "                                       )"
      ],
      "execution_count": null,
      "outputs": [
        {
          "output_type": "stream",
          "text": [
            "Files already downloaded and verified\n"
          ],
          "name": "stdout"
        }
      ]
    },
    {
      "cell_type": "code",
      "metadata": {
        "colab": {
          "base_uri": "https://localhost:8080/"
        },
        "id": "9AqKUl_BDTp_",
        "outputId": "8c147c99-922f-4cf9-97e9-36dcc4c5d1c0"
      },
      "source": [
        "transformed_cifar10_val = datasets.CIFAR10(data_path, train=False, download=True,\r\n",
        "  transform = transforms.Compose(\r\n",
        "      [ transform,\r\n",
        "       to_tensor,\r\n",
        "       transforms.Normalize(mean, std)\r\n",
        "      ]\r\n",
        "  )                                       \r\n",
        "                                       )"
      ],
      "execution_count": null,
      "outputs": [
        {
          "output_type": "stream",
          "text": [
            "Files already downloaded and verified\n"
          ],
          "name": "stdout"
        }
      ]
    },
    {
      "cell_type": "code",
      "metadata": {
        "colab": {
          "base_uri": "https://localhost:8080/"
        },
        "id": "merXZQf7BJXF",
        "outputId": "e6965f42-e1cf-4d95-bc24-b0acc85e5eec"
      },
      "source": [
        "img,_=transformed_cifar10[0]\r\n",
        "img.shape"
      ],
      "execution_count": null,
      "outputs": [
        {
          "output_type": "execute_result",
          "data": {
            "text/plain": [
              "torch.Size([3, 28, 28])"
            ]
          },
          "metadata": {
            "tags": []
          },
          "execution_count": 50
        }
      ]
    },
    {
      "cell_type": "code",
      "metadata": {
        "colab": {
          "base_uri": "https://localhost:8080/",
          "height": 282
        },
        "id": "uvyyUaKCBJZx",
        "outputId": "e7adfefe-dbc6-4609-d1d6-c652a94e6839"
      },
      "source": [
        "plt.imshow(img.permute(1, 2, 0))\r\n",
        "plt.show()"
      ],
      "execution_count": null,
      "outputs": [
        {
          "output_type": "stream",
          "text": [
            "Clipping input data to the valid range for imshow with RGB data ([0..1] for floats or [0..255] for integers).\n"
          ],
          "name": "stderr"
        },
        {
          "output_type": "display_data",
          "data": {
            "image/png": "[encoded data removed]",
            "text/plain": [
              "<Figure size 432x288 with 1 Axes>"
            ]
          },
          "metadata": {
            "tags": [],
            "needs_background": "light"
          }
        }
      ]
    },
    {
      "cell_type": "markdown",
      "metadata": {
        "id": "Fqbdjst4DGGW"
      },
      "source": [
        "# 构建CIFAR2"
      ]
    },
    {
      "cell_type": "code",
      "metadata": {
        "id": "HSh-s3p7_LzR"
      },
      "source": [
        "label_map = {0:0, 2:1}\r\n",
        "\r\n",
        "class_names = ['birds', 'airplane']\r\n",
        "\r\n",
        "cifar2 = [(img, label_map[label]) for img, label in transformed_cifar10 if label in [0, 2]]\r\n",
        "cifar2_val = [(img, label_map[label]) for img, label in transformed_cifar10_val if label in [0, 2]]"
      ],
      "execution_count": null,
      "outputs": []
    },
    {
      "cell_type": "code",
      "metadata": {
        "colab": {
          "base_uri": "https://localhost:8080/"
        },
        "id": "s4jKROC8_L6P",
        "outputId": "543aef25-07c2-457d-ed26-931f9964952b"
      },
      "source": [
        "len(cifar2),len(cifar2_val)"
      ],
      "execution_count": null,
      "outputs": [
        {
          "output_type": "execute_result",
          "data": {
            "text/plain": [
              "(10000, 2000)"
            ]
          },
          "metadata": {
            "tags": []
          },
          "execution_count": 58
        }
      ]
    },
    {
      "cell_type": "code",
      "metadata": {
        "colab": {
          "base_uri": "https://localhost:8080/"
        },
        "id": "Uf5yHEqOEEw9",
        "outputId": "8feafd2c-5d7c-4aaf-cd7f-7c4bbd9988e5"
      },
      "source": [
        "img, _ = cifar2[0]\r\n",
        "img.shape"
      ],
      "execution_count": null,
      "outputs": [
        {
          "output_type": "execute_result",
          "data": {
            "text/plain": [
              "torch.Size([3, 28, 28])"
            ]
          },
          "metadata": {
            "tags": []
          },
          "execution_count": 60
        }
      ]
    },
    {
      "cell_type": "markdown",
      "metadata": {
        "id": "gv81c47yDoKJ"
      },
      "source": [
        "# 定义数据导入器、模型、优化器、损失函数"
      ]
    },
    {
      "cell_type": "code",
      "metadata": {
        "id": "oa1RiDHc934g"
      },
      "source": [
        "train_loader = torch.utils.data.DataLoader(cifar2, batch_size=64, shuffle=True)\r\n",
        "val_loader = torch.utils.data.DataLoader(cifar2_val, batch_size = 64, shuffle=True)\r\n"
      ],
      "execution_count": null,
      "outputs": []
    },
    {
      "cell_type": "code",
      "metadata": {
        "id": "s6ewpBUvD_G0"
      },
      "source": [
        "model = nn.Sequential(\r\n",
        "    nn.Linear(2352, 512),\r\n",
        "    nn.Tanh(),\r\n",
        "    nn.Linear(512, 2),\r\n",
        ")"
      ],
      "execution_count": null,
      "outputs": []
    },
    {
      "cell_type": "code",
      "metadata": {
        "id": "98RPiP58EVKT"
      },
      "source": [
        "lr = 1e-2\r\n",
        "optimizer = optim.SGD(model.parameters(), lr)\r\n"
      ],
      "execution_count": null,
      "outputs": []
    },
    {
      "cell_type": "code",
      "metadata": {
        "id": "snpLKxKjEjET"
      },
      "source": [
        "loss_fn = nn.MSELoss()"
      ],
      "execution_count": null,
      "outputs": []
    },
    {
      "cell_type": "markdown",
      "metadata": {
        "id": "8Cd0cIOHEqME"
      },
      "source": [
        "# 学习集和验证集"
      ]
    },
    {
      "cell_type": "code",
      "metadata": {
        "colab": {
          "base_uri": "https://localhost:8080/"
        },
        "id": "Y73OdHp1EmaY",
        "outputId": "12da52d4-bee4-421e-8860-94ee0b7edc76"
      },
      "source": [
        "n_epoches = 100\r\n",
        "a = torch.tensor([0.0, 1.0])\r\n",
        "b = torch.tensor([1.0, 0.0])\r\n",
        "for epoch in range(n_epoches):\r\n",
        "  for imgs, lables in train_loader:\r\n",
        "    loss = 0.0\r\n",
        "    batch_size = imgs.shape[0]\r\n",
        "    out = model(imgs.view(batch_size, -1))\r\n",
        "    loss += loss_fn(out, a)\r\n",
        "    loss += loss_fn(out, b)\r\n",
        "\r\n",
        "    optimizer.zero_grad()\r\n",
        "    loss.backward()\r\n",
        "    optimizer.step()\r\n",
        "  print(\"Epoch %d, Loss:%f\"%(epoch, float(loss)))"
      ],
      "execution_count": null,
      "outputs": [
        {
          "output_type": "stream",
          "text": [
            "/usr/local/lib/python3.6/dist-packages/torch/nn/modules/loss.py:446: UserWarning: Using a target size (torch.Size([2])) that is different to the input size (torch.Size([64, 2])). This will likely lead to incorrect results due to broadcasting. Please ensure they have the same size.\n",
            "  return F.mse_loss(input, target, reduction=self.reduction)\n",
            "/usr/local/lib/python3.6/dist-packages/torch/nn/modules/loss.py:446: UserWarning: Using a target size (torch.Size([2])) that is different to the input size (torch.Size([16, 2])). This will likely lead to incorrect results due to broadcasting. Please ensure they have the same size.\n",
            "  return F.mse_loss(input, target, reduction=self.reduction)\n"
          ],
          "name": "stderr"
        },
        {
          "output_type": "stream",
          "text": [
            "Epoch 0, Loss:1.152979\n",
            "Epoch 1, Loss:1.080210\n",
            "Epoch 2, Loss:0.990242\n",
            "Epoch 3, Loss:1.059869\n",
            "Epoch 4, Loss:1.182734\n",
            "Epoch 5, Loss:1.012758\n",
            "Epoch 6, Loss:1.023555\n",
            "Epoch 7, Loss:1.052945\n",
            "Epoch 8, Loss:1.123401\n",
            "Epoch 9, Loss:1.288525\n",
            "Epoch 10, Loss:1.209091\n",
            "Epoch 11, Loss:1.385974\n",
            "Epoch 12, Loss:1.136779\n",
            "Epoch 13, Loss:1.203465\n",
            "Epoch 14, Loss:0.992751\n",
            "Epoch 15, Loss:1.163740\n",
            "Epoch 16, Loss:0.983030\n",
            "Epoch 17, Loss:1.084740\n",
            "Epoch 18, Loss:0.990712\n",
            "Epoch 19, Loss:1.115633\n",
            "Epoch 20, Loss:1.050762\n",
            "Epoch 21, Loss:0.979805\n",
            "Epoch 22, Loss:1.143179\n",
            "Epoch 23, Loss:1.058791\n",
            "Epoch 24, Loss:1.117580\n",
            "Epoch 25, Loss:1.102584\n",
            "Epoch 26, Loss:1.257872\n",
            "Epoch 27, Loss:1.089466\n",
            "Epoch 28, Loss:0.918877\n",
            "Epoch 29, Loss:1.105518\n",
            "Epoch 30, Loss:1.215267\n",
            "Epoch 31, Loss:1.133924\n",
            "Epoch 32, Loss:1.072125\n",
            "Epoch 33, Loss:1.027214\n",
            "Epoch 34, Loss:1.027298\n",
            "Epoch 35, Loss:1.098343\n",
            "Epoch 36, Loss:0.984201\n",
            "Epoch 37, Loss:1.022129\n",
            "Epoch 38, Loss:1.085498\n",
            "Epoch 39, Loss:1.080300\n",
            "Epoch 40, Loss:1.152865\n",
            "Epoch 41, Loss:1.147302\n",
            "Epoch 42, Loss:1.231361\n",
            "Epoch 43, Loss:1.070342\n",
            "Epoch 44, Loss:0.970553\n",
            "Epoch 45, Loss:1.068765\n",
            "Epoch 46, Loss:1.058755\n",
            "Epoch 47, Loss:1.057440\n",
            "Epoch 48, Loss:0.993571\n",
            "Epoch 49, Loss:1.218107\n",
            "Epoch 50, Loss:1.104174\n",
            "Epoch 51, Loss:0.954068\n",
            "Epoch 52, Loss:0.984786\n",
            "Epoch 53, Loss:1.063407\n",
            "Epoch 54, Loss:1.075892\n",
            "Epoch 55, Loss:1.098859\n",
            "Epoch 56, Loss:1.136882\n",
            "Epoch 57, Loss:1.121779\n",
            "Epoch 58, Loss:1.053820\n",
            "Epoch 59, Loss:1.262616\n",
            "Epoch 60, Loss:1.132648\n",
            "Epoch 61, Loss:1.209824\n",
            "Epoch 62, Loss:1.129863\n",
            "Epoch 63, Loss:1.025714\n",
            "Epoch 64, Loss:0.928479\n",
            "Epoch 65, Loss:1.080399\n",
            "Epoch 66, Loss:1.204710\n",
            "Epoch 67, Loss:0.950551\n",
            "Epoch 68, Loss:1.061224\n",
            "Epoch 69, Loss:1.118983\n",
            "Epoch 70, Loss:1.158054\n",
            "Epoch 71, Loss:1.080204\n",
            "Epoch 72, Loss:1.023193\n",
            "Epoch 73, Loss:1.056652\n",
            "Epoch 74, Loss:1.227060\n",
            "Epoch 75, Loss:1.079207\n",
            "Epoch 76, Loss:1.073285\n",
            "Epoch 77, Loss:1.112623\n",
            "Epoch 78, Loss:1.235080\n",
            "Epoch 79, Loss:1.242565\n",
            "Epoch 80, Loss:1.041853\n",
            "Epoch 81, Loss:1.187716\n",
            "Epoch 82, Loss:1.128887\n",
            "Epoch 83, Loss:1.176892\n",
            "Epoch 84, Loss:1.234773\n",
            "Epoch 85, Loss:1.174946\n",
            "Epoch 86, Loss:1.044421\n",
            "Epoch 87, Loss:1.140271\n",
            "Epoch 88, Loss:0.947713\n",
            "Epoch 89, Loss:1.076981\n",
            "Epoch 90, Loss:0.969826\n",
            "Epoch 91, Loss:1.168375\n",
            "Epoch 92, Loss:1.153761\n",
            "Epoch 93, Loss:1.016256\n",
            "Epoch 94, Loss:1.217492\n",
            "Epoch 95, Loss:1.065424\n",
            "Epoch 96, Loss:1.180506\n",
            "Epoch 97, Loss:1.031419\n",
            "Epoch 98, Loss:1.351317\n",
            "Epoch 99, Loss:1.058317\n"
          ],
          "name": "stdout"
        }
      ]
    },
    {
      "cell_type": "code",
      "metadata": {
        "colab": {
          "base_uri": "https://localhost:8080/"
        },
        "id": "aGtU65dSFx_O",
        "outputId": "a9a09370-0124-46df-b667-b835eccf558b"
      },
      "source": [
        "total, correct =0, 0\r\n",
        "\r\n",
        "with torch.no_grad():\r\n",
        "  for imgs, labels in val_loader:\r\n",
        "    batch_size = imgs.shape[0]\r\n",
        "    out = model(imgs.view(batch_size, -1))\r\n",
        "    _, predict = torch.max(out, dim=1)\r\n",
        "    total+=batch_size\r\n",
        "    correct += int((predict == labels).sum())\r\n",
        "\r\n",
        "print('accuracy %f', correct/total)"
      ],
      "execution_count": null,
      "outputs": [
        {
          "output_type": "stream",
          "text": [
            "accuracy %f 0.6525\n"
          ],
          "name": "stdout"
        }
      ]
    },
    {
      "cell_type": "code",
      "metadata": {
        "id": "yH6XyYeDGfvX"
      },
      "source": [
        ""
      ],
      "execution_count": null,
      "outputs": []
    }
  ]
}