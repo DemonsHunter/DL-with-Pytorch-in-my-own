{
  "nbformat": 4,
  "nbformat_minor": 0,
  "metadata": {
    "colab": {
      "name": "Chapter8.ipynb",
      "provenance": [],
      "collapsed_sections": []
    },
    "kernelspec": {
      "name": "python3",
      "display_name": "Python 3"
    },
    "accelerator": "GPU"
  },
  "cells": [
    {
      "cell_type": "code",
      "metadata": {
        "id": "IKrJMy1OVtTX",
        "colab": {
          "base_uri": "https://localhost:8080/"
        },
        "outputId": "e6392cb2-42df-486c-b23e-1306c6e6fc19"
      },
      "source": [
        "%matplotlib inline\r\n",
        "from matplotlib import pyplot as plt\r\n",
        "import numpy as np\r\n",
        "import collections\r\n",
        "\r\n",
        "import torch\r\n",
        "import torch.nn as nn\r\n",
        "import torch.nn.functional as F\r\n",
        "import torch.optim as optim\r\n",
        "\r\n",
        "torch.set_printoptions(edgeitems=2)\r\n",
        "torch.manual_seed(123)"
      ],
      "execution_count": null,
      "outputs": [
        {
          "output_type": "execute_result",
          "data": {
            "text/plain": [
              "<torch._C.Generator at 0x7fda6ed2a240>"
            ]
          },
          "metadata": {
            "tags": []
          },
          "execution_count": 7
        }
      ]
    },
    {
      "cell_type": "code",
      "metadata": {
        "id": "h4-AsOfkf-Es"
      },
      "source": [
        "class_names = ['airplane','automobile','bird','cat','deer',\r\n",
        "               'dog','frog','horse','ship','truck']"
      ],
      "execution_count": null,
      "outputs": []
    },
    {
      "cell_type": "code",
      "metadata": {
        "colab": {
          "base_uri": "https://localhost:8080/"
        },
        "id": "0xQ_tusBf-Hb",
        "outputId": "00b980d6-61f7-4bec-8fa7-ce20ab264386"
      },
      "source": [
        "from torchvision import datasets, transforms\r\n",
        "data_path = '/content/drive/MyDrive'\r\n",
        "cifar10 = datasets.CIFAR10(\r\n",
        "    data_path, train=True, download=True,\r\n",
        "    transform=transforms.Compose([\r\n",
        "        transforms.ToTensor(),\r\n",
        "        transforms.Normalize((0.4914, 0.4822, 0.4465),\r\n",
        "                  (0.2470, 0.2435, 0.2616))\r\n",
        "    ]))"
      ],
      "execution_count": null,
      "outputs": [
        {
          "output_type": "stream",
          "text": [
            "Files already downloaded and verified\n"
          ],
          "name": "stdout"
        }
      ]
    },
    {
      "cell_type": "code",
      "metadata": {
        "colab": {
          "base_uri": "https://localhost:8080/"
        },
        "id": "bJvIBuGSf-KL",
        "outputId": "a6fd387a-f281-4027-c260-6adb6aa244cb"
      },
      "source": [
        "cifar10_val = datasets.CIFAR10(\r\n",
        "    data_path, train=False, download=True,\r\n",
        "    transform=transforms.Compose([\r\n",
        "        transforms.ToTensor(),\r\n",
        "        transforms.Normalize((0.4914, 0.4822, 0.4465),\r\n",
        "                             (0.2470, 0.2435, 0.2616))\r\n",
        "    ]))"
      ],
      "execution_count": null,
      "outputs": [
        {
          "output_type": "stream",
          "text": [
            "Files already downloaded and verified\n"
          ],
          "name": "stdout"
        }
      ]
    },
    {
      "cell_type": "code",
      "metadata": {
        "id": "iELCF1b1f-NK"
      },
      "source": [
        "label_map = {0: 0, 2: 1}\r\n",
        "class_names = ['airplane', 'bird']\r\n",
        "cifar2 = [(img, label_map[label])\r\n",
        "          for img, label in cifar10\r\n",
        "          if label in [0, 2]]\r\n",
        "cifar2_val = [(img, label_map[label])\r\n",
        "              for img, label in cifar10_val\r\n",
        "              if label in [0, 2]]"
      ],
      "execution_count": null,
      "outputs": []
    },
    {
      "cell_type": "code",
      "metadata": {
        "colab": {
          "base_uri": "https://localhost:8080/"
        },
        "id": "ac4w52ComViP",
        "outputId": "c169a769-07ff-456c-8b36-257ab9f06a39"
      },
      "source": [
        "\r\n",
        "conv = nn.Conv2d(3, 16, 3)\r\n",
        "\r\n",
        "conv"
      ],
      "execution_count": null,
      "outputs": [
        {
          "output_type": "execute_result",
          "data": {
            "text/plain": [
              "Conv2d(3, 16, kernel_size=(3, 3), stride=(1, 1))"
            ]
          },
          "metadata": {
            "tags": []
          },
          "execution_count": 12
        }
      ]
    },
    {
      "cell_type": "code",
      "metadata": {
        "colab": {
          "base_uri": "https://localhost:8080/"
        },
        "id": "LDlsDL1omdEo",
        "outputId": "2f497889-5b6d-4a8c-b259-1f808f51684a"
      },
      "source": [
        "#conv weight size: out_feature * input*feature * kernel_size, in our case: 16*3*3*3\r\n",
        "conv.weight.shape, conv.bias.shape"
      ],
      "execution_count": null,
      "outputs": [
        {
          "output_type": "execute_result",
          "data": {
            "text/plain": [
              "(torch.Size([16, 3, 3, 3]), torch.Size([16]))"
            ]
          },
          "metadata": {
            "tags": []
          },
          "execution_count": 13
        }
      ]
    },
    {
      "cell_type": "code",
      "metadata": {
        "colab": {
          "base_uri": "https://localhost:8080/"
        },
        "id": "dhHI0EOKnXGq",
        "outputId": "d4732083-5a3c-42bb-8cf0-b41a37878d35"
      },
      "source": [
        "# test the conv model, which expects input shape: B*C*H*W\r\n",
        "img, _ = cifar2[0]\r\n",
        "output = conv(img.unsqueeze(0))\r\n",
        "img.unsqueeze(0).shape, output.shape, type(img)"
      ],
      "execution_count": null,
      "outputs": [
        {
          "output_type": "execute_result",
          "data": {
            "text/plain": [
              "(torch.Size([1, 3, 32, 32]), torch.Size([1, 1, 30, 30]), torch.Tensor)"
            ]
          },
          "metadata": {
            "tags": []
          },
          "execution_count": 53
        }
      ]
    },
    {
      "cell_type": "code",
      "metadata": {
        "colab": {
          "base_uri": "https://localhost:8080/",
          "height": 266
        },
        "id": "elzPpPBUn_Rr",
        "outputId": "c2566a91-3aaa-4989-a366-197eb4123656"
      },
      "source": [
        "plt.imshow(output[0, 0].detach(), cmap='gray')\r\n",
        "plt.show()"
      ],
      "execution_count": null,
      "outputs": [
        {
          "output_type": "display_data",
          "data": {
            "image/png": "[encoded data removed]",
            "text/plain": [
              "<Figure size 432x288 with 1 Axes>"
            ]
          },
          "metadata": {
            "tags": [],
            "needs_background": "light"
          }
        }
      ]
    },
    {
      "cell_type": "code",
      "metadata": {
        "colab": {
          "base_uri": "https://localhost:8080/"
        },
        "id": "l32-xrXXoJf0",
        "outputId": "5c51a8f4-8b2e-47e9-b8fe-cc1304b40ff8"
      },
      "source": [
        "# expecting to preserve the original size of pic, we will use padding\r\n",
        "conv = nn.Conv2d(3, 1, kernel_size=3, padding=1)\r\n",
        "output = conv(img.unsqueeze(0))\r\n",
        "output.shape"
      ],
      "execution_count": null,
      "outputs": [
        {
          "output_type": "execute_result",
          "data": {
            "text/plain": [
              "torch.Size([1, 1, 32, 32])"
            ]
          },
          "metadata": {
            "tags": []
          },
          "execution_count": 16
        }
      ]
    },
    {
      "cell_type": "markdown",
      "metadata": {
        "id": "nOq_-Z4_qCBJ"
      },
      "source": [
        "## 检查weight矩阵的作用"
      ]
    },
    {
      "cell_type": "code",
      "metadata": {
        "id": "j5heFP2sqFr4"
      },
      "source": [
        "# bias=0, weight=1/9, 所以每一个像素将会是周围9格的平均\r\n",
        "with torch.no_grad():\r\n",
        "  conv.bias.zero_()\r\n",
        "\r\n",
        "with torch.no_grad():\r\n",
        "  conv.weight.fill_(1.0/9.0)"
      ],
      "execution_count": null,
      "outputs": []
    },
    {
      "cell_type": "code",
      "metadata": {
        "colab": {
          "base_uri": "https://localhost:8080/",
          "height": 266
        },
        "id": "4-EavOQAqPkd",
        "outputId": "da590052-6ba9-4fc3-eb83-4abd2aa8ce34"
      },
      "source": [
        "output = conv(img.unsqueeze(0))\r\n",
        "plt.imshow(output[0, 0].detach(), cmap='gray')\r\n",
        "plt.show()"
      ],
      "execution_count": null,
      "outputs": [
        {
          "output_type": "display_data",
          "data": {
            "image/png": "[encoded data removed]",
            "text/plain": [
              "<Figure size 432x288 with 1 Axes>"
            ]
          },
          "metadata": {
            "tags": [],
            "needs_background": "light"
          }
        }
      ]
    },
    {
      "cell_type": "code",
      "metadata": {
        "id": "SLt32CYPqefd"
      },
      "source": [
        "#每个图片的右列减去左列\r\n",
        "conv = nn.Conv2d(3, 1, 3, 1)\r\n",
        "with torch.no_grad():\r\n",
        "  conv.weight[:] = torch.tensor([  [-1.0, 0.0, 1.0],\r\n",
        "                     [-1.0, 0.0, 1.0],\r\n",
        "                     [-1.0, 0.0, 1.0]\r\n",
        "                                 ])\r\n",
        "  conv.bias.zero_()"
      ],
      "execution_count": null,
      "outputs": []
    },
    {
      "cell_type": "code",
      "metadata": {
        "colab": {
          "base_uri": "https://localhost:8080/",
          "height": 266
        },
        "id": "5uidaM9prJtx",
        "outputId": "f821aa4f-9a3d-4f5e-f7c4-bbe5c5d49144"
      },
      "source": [
        "output = conv(img.unsqueeze(0))\r\n",
        "plt.imshow(output[0, 0].detach(), cmap='gray')\r\n",
        "plt.show()"
      ],
      "execution_count": null,
      "outputs": [
        {
          "output_type": "display_data",
          "data": {
            "image/png": "[encoded data removed]",
            "text/plain": [
              "<Figure size 432x288 with 1 Axes>"
            ]
          },
          "metadata": {
            "tags": [],
            "needs_background": "light"
          }
        }
      ]
    },
    {
      "cell_type": "markdown",
      "metadata": {
        "id": "trV5mamfr7oN"
      },
      "source": [
        "## from large picture to small: downsampling, maxpooling"
      ]
    },
    {
      "cell_type": "code",
      "metadata": {
        "colab": {
          "base_uri": "https://localhost:8080/"
        },
        "id": "vjuNQLJhrN-5",
        "outputId": "0190f71a-e196-4dbe-f35a-8e2d1388c36d"
      },
      "source": [
        "pool = nn.MaxPool2d(2)\r\n",
        "output = pool(img.unsqueeze(0))\r\n",
        "img.unsqueeze(0).shape, output.shape"
      ],
      "execution_count": null,
      "outputs": [
        {
          "output_type": "execute_result",
          "data": {
            "text/plain": [
              "(torch.Size([1, 3, 32, 32]), torch.Size([1, 3, 16, 16]))"
            ]
          },
          "metadata": {
            "tags": []
          },
          "execution_count": 21
        }
      ]
    },
    {
      "cell_type": "markdown",
      "metadata": {
        "id": "j8hzJ-67uYIS"
      },
      "source": [
        "## put it all together"
      ]
    },
    {
      "cell_type": "code",
      "metadata": {
        "id": "cHksqT7Jsrhi"
      },
      "source": [
        "model = nn.Sequential(\r\n",
        "    nn.Conv2d(3, 16, 3, 1),#input, output, kernelsize, padding\r\n",
        "    nn.Tanh(),\r\n",
        "    nn.MaxPool2d(2),\r\n",
        "    nn.Conv2d(16, 8, 3, 1),\r\n",
        "    nn.Tanh(),\r\n",
        "    nn.MaxPool2d(2),\r\n",
        "    # turn 8 channel 8*8 picture into 1D vector to produce prob\r\n",
        "    nn.Linear(8*8*8, 32),\r\n",
        "    nn.Tanh(),\r\n",
        "    nn.Linear(32, 2)\r\n",
        ")"
      ],
      "execution_count": null,
      "outputs": []
    },
    {
      "cell_type": "code",
      "metadata": {
        "colab": {
          "base_uri": "https://localhost:8080/"
        },
        "id": "ZX584VnHveeE",
        "outputId": "9b279e52-f62c-44a8-9aba-509db8ef49e0"
      },
      "source": [
        "numel_list = [p.numel() for p in model.parameters()]\r\n",
        "sum(numel_list), numel_list "
      ],
      "execution_count": null,
      "outputs": [
        {
          "output_type": "execute_result",
          "data": {
            "text/plain": [
              "(18090, [432, 16, 1152, 8, 16384, 32, 64, 2])"
            ]
          },
          "metadata": {
            "tags": []
          },
          "execution_count": 23
        }
      ]
    },
    {
      "cell_type": "code",
      "metadata": {
        "colab": {
          "base_uri": "https://localhost:8080/",
          "height": 306
        },
        "id": "W0CljGQ6vrgv",
        "outputId": "ecd7b055-89c2-4a2e-a523-d061e7026225"
      },
      "source": [
        "model(img.unsqueeze(0))"
      ],
      "execution_count": null,
      "outputs": [
        {
          "output_type": "error",
          "ename": "RuntimeError",
          "evalue": "ignored",
          "traceback": [
            "\u001b[0;31m---------------------------------------------------------------------------\u001b[0m",
            "\u001b[0;31mRuntimeError\u001b[0m                              Traceback (most recent call last)",
            "\u001b[0;32m<ipython-input-24-9c784fd7714c>\u001b[0m in \u001b[0;36m<module>\u001b[0;34m()\u001b[0m\n\u001b[0;32m----> 1\u001b[0;31m \u001b[0mmodel\u001b[0m\u001b[0;34m(\u001b[0m\u001b[0mimg\u001b[0m\u001b[0;34m.\u001b[0m\u001b[0munsqueeze\u001b[0m\u001b[0;34m(\u001b[0m\u001b[0;36m0\u001b[0m\u001b[0;34m)\u001b[0m\u001b[0;34m)\u001b[0m\u001b[0;34m\u001b[0m\u001b[0;34m\u001b[0m\u001b[0m\n\u001b[0m",
            "\u001b[0;32m/usr/local/lib/python3.6/dist-packages/torch/nn/modules/module.py\u001b[0m in \u001b[0;36m_call_impl\u001b[0;34m(self, *input, **kwargs)\u001b[0m\n\u001b[1;32m    725\u001b[0m             \u001b[0mresult\u001b[0m \u001b[0;34m=\u001b[0m \u001b[0mself\u001b[0m\u001b[0;34m.\u001b[0m\u001b[0m_slow_forward\u001b[0m\u001b[0;34m(\u001b[0m\u001b[0;34m*\u001b[0m\u001b[0minput\u001b[0m\u001b[0;34m,\u001b[0m \u001b[0;34m**\u001b[0m\u001b[0mkwargs\u001b[0m\u001b[0;34m)\u001b[0m\u001b[0;34m\u001b[0m\u001b[0;34m\u001b[0m\u001b[0m\n\u001b[1;32m    726\u001b[0m         \u001b[0;32melse\u001b[0m\u001b[0;34m:\u001b[0m\u001b[0;34m\u001b[0m\u001b[0;34m\u001b[0m\u001b[0m\n\u001b[0;32m--> 727\u001b[0;31m             \u001b[0mresult\u001b[0m \u001b[0;34m=\u001b[0m \u001b[0mself\u001b[0m\u001b[0;34m.\u001b[0m\u001b[0mforward\u001b[0m\u001b[0;34m(\u001b[0m\u001b[0;34m*\u001b[0m\u001b[0minput\u001b[0m\u001b[0;34m,\u001b[0m \u001b[0;34m**\u001b[0m\u001b[0mkwargs\u001b[0m\u001b[0;34m)\u001b[0m\u001b[0;34m\u001b[0m\u001b[0;34m\u001b[0m\u001b[0m\n\u001b[0m\u001b[1;32m    728\u001b[0m         for hook in itertools.chain(\n\u001b[1;32m    729\u001b[0m                 \u001b[0m_global_forward_hooks\u001b[0m\u001b[0;34m.\u001b[0m\u001b[0mvalues\u001b[0m\u001b[0;34m(\u001b[0m\u001b[0;34m)\u001b[0m\u001b[0;34m,\u001b[0m\u001b[0;34m\u001b[0m\u001b[0;34m\u001b[0m\u001b[0m\n",
            "\u001b[0;32m/usr/local/lib/python3.6/dist-packages/torch/nn/modules/container.py\u001b[0m in \u001b[0;36mforward\u001b[0;34m(self, input)\u001b[0m\n\u001b[1;32m    115\u001b[0m     \u001b[0;32mdef\u001b[0m \u001b[0mforward\u001b[0m\u001b[0;34m(\u001b[0m\u001b[0mself\u001b[0m\u001b[0;34m,\u001b[0m \u001b[0minput\u001b[0m\u001b[0;34m)\u001b[0m\u001b[0;34m:\u001b[0m\u001b[0;34m\u001b[0m\u001b[0;34m\u001b[0m\u001b[0m\n\u001b[1;32m    116\u001b[0m         \u001b[0;32mfor\u001b[0m \u001b[0mmodule\u001b[0m \u001b[0;32min\u001b[0m \u001b[0mself\u001b[0m\u001b[0;34m:\u001b[0m\u001b[0;34m\u001b[0m\u001b[0;34m\u001b[0m\u001b[0m\n\u001b[0;32m--> 117\u001b[0;31m             \u001b[0minput\u001b[0m \u001b[0;34m=\u001b[0m \u001b[0mmodule\u001b[0m\u001b[0;34m(\u001b[0m\u001b[0minput\u001b[0m\u001b[0;34m)\u001b[0m\u001b[0;34m\u001b[0m\u001b[0;34m\u001b[0m\u001b[0m\n\u001b[0m\u001b[1;32m    118\u001b[0m         \u001b[0;32mreturn\u001b[0m \u001b[0minput\u001b[0m\u001b[0;34m\u001b[0m\u001b[0;34m\u001b[0m\u001b[0m\n\u001b[1;32m    119\u001b[0m \u001b[0;34m\u001b[0m\u001b[0m\n",
            "\u001b[0;32m/usr/local/lib/python3.6/dist-packages/torch/nn/modules/module.py\u001b[0m in \u001b[0;36m_call_impl\u001b[0;34m(self, *input, **kwargs)\u001b[0m\n\u001b[1;32m    725\u001b[0m             \u001b[0mresult\u001b[0m \u001b[0;34m=\u001b[0m \u001b[0mself\u001b[0m\u001b[0;34m.\u001b[0m\u001b[0m_slow_forward\u001b[0m\u001b[0;34m(\u001b[0m\u001b[0;34m*\u001b[0m\u001b[0minput\u001b[0m\u001b[0;34m,\u001b[0m \u001b[0;34m**\u001b[0m\u001b[0mkwargs\u001b[0m\u001b[0;34m)\u001b[0m\u001b[0;34m\u001b[0m\u001b[0;34m\u001b[0m\u001b[0m\n\u001b[1;32m    726\u001b[0m         \u001b[0;32melse\u001b[0m\u001b[0;34m:\u001b[0m\u001b[0;34m\u001b[0m\u001b[0;34m\u001b[0m\u001b[0m\n\u001b[0;32m--> 727\u001b[0;31m             \u001b[0mresult\u001b[0m \u001b[0;34m=\u001b[0m \u001b[0mself\u001b[0m\u001b[0;34m.\u001b[0m\u001b[0mforward\u001b[0m\u001b[0;34m(\u001b[0m\u001b[0;34m*\u001b[0m\u001b[0minput\u001b[0m\u001b[0;34m,\u001b[0m \u001b[0;34m**\u001b[0m\u001b[0mkwargs\u001b[0m\u001b[0;34m)\u001b[0m\u001b[0;34m\u001b[0m\u001b[0;34m\u001b[0m\u001b[0m\n\u001b[0m\u001b[1;32m    728\u001b[0m         for hook in itertools.chain(\n\u001b[1;32m    729\u001b[0m                 \u001b[0m_global_forward_hooks\u001b[0m\u001b[0;34m.\u001b[0m\u001b[0mvalues\u001b[0m\u001b[0;34m(\u001b[0m\u001b[0;34m)\u001b[0m\u001b[0;34m,\u001b[0m\u001b[0;34m\u001b[0m\u001b[0;34m\u001b[0m\u001b[0m\n",
            "\u001b[0;32m/usr/local/lib/python3.6/dist-packages/torch/nn/modules/linear.py\u001b[0m in \u001b[0;36mforward\u001b[0;34m(self, input)\u001b[0m\n\u001b[1;32m     91\u001b[0m \u001b[0;34m\u001b[0m\u001b[0m\n\u001b[1;32m     92\u001b[0m     \u001b[0;32mdef\u001b[0m \u001b[0mforward\u001b[0m\u001b[0;34m(\u001b[0m\u001b[0mself\u001b[0m\u001b[0;34m,\u001b[0m \u001b[0minput\u001b[0m\u001b[0;34m:\u001b[0m \u001b[0mTensor\u001b[0m\u001b[0;34m)\u001b[0m \u001b[0;34m->\u001b[0m \u001b[0mTensor\u001b[0m\u001b[0;34m:\u001b[0m\u001b[0;34m\u001b[0m\u001b[0;34m\u001b[0m\u001b[0m\n\u001b[0;32m---> 93\u001b[0;31m         \u001b[0;32mreturn\u001b[0m \u001b[0mF\u001b[0m\u001b[0;34m.\u001b[0m\u001b[0mlinear\u001b[0m\u001b[0;34m(\u001b[0m\u001b[0minput\u001b[0m\u001b[0;34m,\u001b[0m \u001b[0mself\u001b[0m\u001b[0;34m.\u001b[0m\u001b[0mweight\u001b[0m\u001b[0;34m,\u001b[0m \u001b[0mself\u001b[0m\u001b[0;34m.\u001b[0m\u001b[0mbias\u001b[0m\u001b[0;34m)\u001b[0m\u001b[0;34m\u001b[0m\u001b[0;34m\u001b[0m\u001b[0m\n\u001b[0m\u001b[1;32m     94\u001b[0m \u001b[0;34m\u001b[0m\u001b[0m\n\u001b[1;32m     95\u001b[0m     \u001b[0;32mdef\u001b[0m \u001b[0mextra_repr\u001b[0m\u001b[0;34m(\u001b[0m\u001b[0mself\u001b[0m\u001b[0;34m)\u001b[0m \u001b[0;34m->\u001b[0m \u001b[0mstr\u001b[0m\u001b[0;34m:\u001b[0m\u001b[0;34m\u001b[0m\u001b[0;34m\u001b[0m\u001b[0m\n",
            "\u001b[0;32m/usr/local/lib/python3.6/dist-packages/torch/nn/functional.py\u001b[0m in \u001b[0;36mlinear\u001b[0;34m(input, weight, bias)\u001b[0m\n\u001b[1;32m   1690\u001b[0m         \u001b[0mret\u001b[0m \u001b[0;34m=\u001b[0m \u001b[0mtorch\u001b[0m\u001b[0;34m.\u001b[0m\u001b[0maddmm\u001b[0m\u001b[0;34m(\u001b[0m\u001b[0mbias\u001b[0m\u001b[0;34m,\u001b[0m \u001b[0minput\u001b[0m\u001b[0;34m,\u001b[0m \u001b[0mweight\u001b[0m\u001b[0;34m.\u001b[0m\u001b[0mt\u001b[0m\u001b[0;34m(\u001b[0m\u001b[0;34m)\u001b[0m\u001b[0;34m)\u001b[0m\u001b[0;34m\u001b[0m\u001b[0;34m\u001b[0m\u001b[0m\n\u001b[1;32m   1691\u001b[0m     \u001b[0;32melse\u001b[0m\u001b[0;34m:\u001b[0m\u001b[0;34m\u001b[0m\u001b[0;34m\u001b[0m\u001b[0m\n\u001b[0;32m-> 1692\u001b[0;31m         \u001b[0moutput\u001b[0m \u001b[0;34m=\u001b[0m \u001b[0minput\u001b[0m\u001b[0;34m.\u001b[0m\u001b[0mmatmul\u001b[0m\u001b[0;34m(\u001b[0m\u001b[0mweight\u001b[0m\u001b[0;34m.\u001b[0m\u001b[0mt\u001b[0m\u001b[0;34m(\u001b[0m\u001b[0;34m)\u001b[0m\u001b[0;34m)\u001b[0m\u001b[0;34m\u001b[0m\u001b[0;34m\u001b[0m\u001b[0m\n\u001b[0m\u001b[1;32m   1693\u001b[0m         \u001b[0;32mif\u001b[0m \u001b[0mbias\u001b[0m \u001b[0;32mis\u001b[0m \u001b[0;32mnot\u001b[0m \u001b[0;32mNone\u001b[0m\u001b[0;34m:\u001b[0m\u001b[0;34m\u001b[0m\u001b[0;34m\u001b[0m\u001b[0m\n\u001b[1;32m   1694\u001b[0m             \u001b[0moutput\u001b[0m \u001b[0;34m+=\u001b[0m \u001b[0mbias\u001b[0m\u001b[0;34m\u001b[0m\u001b[0;34m\u001b[0m\u001b[0m\n",
            "\u001b[0;31mRuntimeError\u001b[0m: mat1 and mat2 shapes cannot be multiplied (48x6 and 512x32)"
          ]
        }
      ]
    },
    {
      "cell_type": "markdown",
      "metadata": {
        "id": "NT7kW7Fs5DQi"
      },
      "source": [
        "# make our submodule"
      ]
    },
    {
      "cell_type": "code",
      "metadata": {
        "id": "YxEKf6cU4Y0g"
      },
      "source": [
        "# switch to functional API to avoid store non-parameter function in our model\r\n",
        "# that is why we abandon nn.Tanh(), nn.MaxPool2d and turn to torch.tanh(), F.maxpool()\r\n",
        "class Net(nn.Module):\r\n",
        "  def __init__(self):\r\n",
        "    super().__init__()\r\n",
        "    self.conv1 = nn.Conv2d(3, 16, kernel_size = 5, padding=2)\r\n",
        "    #self.act1 = nn.Tanh()\r\n",
        "    #self.pool1 = nn.MaxPool2d(2)\r\n",
        "    self.conv2 = nn.Conv2d(16, 8 ,kernel_size = 5, padding=2)\r\n",
        "    #self.act2 = nn.Tanh()\r\n",
        "    #self.pool2 = nn.MaxPool2d(2)\r\n",
        "    self.fc1 = nn.Linear(8*8*8, 32)\r\n",
        "    #self.act3 = nn.Tanh()\r\n",
        "    self.fc2 = nn.Linear(32, 2)\r\n",
        "  \r\n",
        "  def forward(self, x):\r\n",
        "    out = F.max_pool2d( torch.tanh( self.conv1(x) ), 2)\r\n",
        "    out = F.max_pool2d( torch.tanh( self.conv2(out) ), 2 )\r\n",
        "    out = out.view(-1, 8*8*8) # most important line! to tackcle the former warning\r\n",
        "    out = torch.tanh( self.fc1(out) )\r\n",
        "    out = self.fc2(out)\r\n",
        "    return out\r\n"
      ],
      "execution_count": null,
      "outputs": []
    },
    {
      "cell_type": "code",
      "metadata": {
        "id": "r0lEmqbN6rHI"
      },
      "source": [
        "model = Net()\r\n",
        "numel_list = [p.numel() for p in model.parameters()]\r\n",
        "sum(numel_list), numel_list"
      ],
      "execution_count": null,
      "outputs": []
    },
    {
      "cell_type": "code",
      "metadata": {
        "id": "1OMGTEwOCeh7"
      },
      "source": [
        "model = Net()\r\n",
        "model(img.unsqueeze(0))"
      ],
      "execution_count": null,
      "outputs": []
    },
    {
      "cell_type": "markdown",
      "metadata": {
        "id": "LL2zsn8SGjN8"
      },
      "source": [
        "## time to train our own model"
      ]
    },
    {
      "cell_type": "code",
      "metadata": {
        "id": "88hpfU7NF6Ic"
      },
      "source": [
        "import datetime\r\n",
        "\r\n",
        "def trainning_loop(n_epoches, optimizer, model, loss_fn, train_loader):\r\n",
        "  for epoch in range(1, 1+n_epoches):\r\n",
        "    loss_train =0.0\r\n",
        "    for imgs, labels in train_loader:\r\n",
        "      outputs = model(imgs)\r\n",
        "      loss = loss_fn(outputs, labels)\r\n",
        "\r\n",
        "      optimizer.zero_grad()\r\n",
        "      loss.backward()\r\n",
        "      optimizer.step()\r\n",
        "\r\n",
        "      loss_train += loss.item()  #use item() function to transfrom it to a Python number\r\n",
        "    if epoch==1 or epoch % 10==0:\r\n",
        "      print('{} Epoch {}, Trainning loss {}'.format(datetime.datetime.now(), epoch, loss_train/len(train_loader)))"
      ],
      "execution_count": null,
      "outputs": []
    },
    {
      "cell_type": "code",
      "metadata": {
        "id": "l2SMdZTwHiuw"
      },
      "source": [
        "train_loader = torch.utils.data.DataLoader(cifar2, batch_size=64, shuffle = True)\r\n",
        "model = Net()\r\n",
        "optimizer = optim.SGD(model.parameters(), 1e-2)\r\n",
        "loss_fn = nn.CrossEntropyLoss()"
      ],
      "execution_count": null,
      "outputs": []
    },
    {
      "cell_type": "code",
      "metadata": {
        "id": "4YtHsFIwIILD"
      },
      "source": [
        "trainning_loop(100, optimizer, model, loss_fn, train_loader)"
      ],
      "execution_count": null,
      "outputs": []
    },
    {
      "cell_type": "code",
      "metadata": {
        "id": "ZO8L4JhBIMfI"
      },
      "source": [
        "\r\n",
        "\r\n",
        "def validate(model, train_loader, val_loader):\r\n",
        "  for name, loader in [('train', train_loader), ('val', val_loader)]:\r\n",
        "    correct, total = 0, 0\r\n",
        "\r\n",
        "    with torch.no_grad():\r\n",
        "      for imgs, labels in loader:\r\n",
        "        outputs = model(imgs)\r\n",
        "        _, predicted = torch.max(outputs, dim=1)\r\n",
        "        total += labels.shape[0]\r\n",
        "        correct += int( (labels == predicted).sum() )\r\n",
        "      \r\n",
        "    print('Accuracy {}: {:.2f} '.format(name, correct/total))\r\n"
      ],
      "execution_count": null,
      "outputs": []
    },
    {
      "cell_type": "code",
      "metadata": {
        "id": "-tZRVK1yKv9E"
      },
      "source": [
        "train_loader = torch.utils.data.DataLoader(cifar2, batch_size = 64, shuffle = False)\r\n",
        "val_loader = torch.utils.data.DataLoader(cifar2_val, batch_size = 64, shuffle = False)"
      ],
      "execution_count": null,
      "outputs": []
    },
    {
      "cell_type": "code",
      "metadata": {
        "id": "xWjT6FczJaH-"
      },
      "source": [
        "validate(model, train_loader, val_loader)\r\n",
        "# kernel size = 3, 0.93 on train, 0.88 on val\r\n",
        "# kernel size = 5, 0.97 on train, 0.88 on val"
      ],
      "execution_count": null,
      "outputs": []
    },
    {
      "cell_type": "markdown",
      "metadata": {
        "id": "OVj9uAQVhRb_"
      },
      "source": [
        "## store and load the parameters"
      ]
    },
    {
      "cell_type": "code",
      "metadata": {
        "id": "pGi4IyaQKI6D"
      },
      "source": [
        "torch.save(model.state_dict(), data_path+'/birds_vs_airplanes.pt')\r\n"
      ],
      "execution_count": null,
      "outputs": []
    },
    {
      "cell_type": "code",
      "metadata": {
        "id": "PW66n4OzlnEN"
      },
      "source": [
        "loaded_model = Net()\r\n",
        "loaded_model.load_state_dict(torch.load('/content/drive/MyDrive/birds_vs_airplanes.pt'))"
      ],
      "execution_count": null,
      "outputs": []
    },
    {
      "cell_type": "markdown",
      "metadata": {
        "id": "-N3A1pIvlKEv"
      },
      "source": [
        "# using GPU"
      ]
    },
    {
      "cell_type": "code",
      "metadata": {
        "colab": {
          "base_uri": "https://localhost:8080/"
        },
        "id": "BJgdLzYpl9Mf",
        "outputId": "665dce1f-21d0-4832-cd5e-792fcb95142e"
      },
      "source": [
        "#checke whether the GPU is available\r\n",
        "device = torch.device('cuda') if torch.cuda.is_available() else torch.device('cpu')\r\n",
        "print(f\"training on device {device}\")"
      ],
      "execution_count": null,
      "outputs": [
        {
          "output_type": "stream",
          "text": [
            "training on device cuda\n"
          ],
          "name": "stdout"
        }
      ]
    },
    {
      "cell_type": "code",
      "metadata": {
        "id": "safNNwaDbhtz"
      },
      "source": [
        "# switch to functional API to avoid store non-parameter function in our model\r\n",
        "# that is why we abandon nn.Tanh(), nn.MaxPool2d and turn to torch.tanh(), F.maxpool()\r\n",
        "class Net(nn.Module):\r\n",
        "  def __init__(self):\r\n",
        "    super().__init__()\r\n",
        "    self.conv1 = nn.Conv2d(3, 16, kernel_size = 5, padding=2)\r\n",
        "    #self.act1 = nn.Tanh()\r\n",
        "    #self.pool1 = nn.MaxPool2d(2)\r\n",
        "    self.conv2 = nn.Conv2d(16, 8 ,kernel_size = 5, padding=2)\r\n",
        "    #self.act2 = nn.Tanh()\r\n",
        "    #self.pool2 = nn.MaxPool2d(2)\r\n",
        "    self.fc1 = nn.Linear(8*8*8, 32)\r\n",
        "    #self.act3 = nn.Tanh()\r\n",
        "    self.fc2 = nn.Linear(32, 2)\r\n",
        "  \r\n",
        "  def forward(self, x):\r\n",
        "    out = F.max_pool2d( torch.tanh( self.conv1(x) ), 2)\r\n",
        "    out = F.max_pool2d( torch.tanh( self.conv2(out) ), 2 )\r\n",
        "    out = out.view(-1, 8*8*8) # most important line! to tackcle the former warning\r\n",
        "    out = torch.tanh( self.fc1(out) )\r\n",
        "    out = self.fc2(out)\r\n",
        "    return out\r\n"
      ],
      "execution_count": null,
      "outputs": []
    },
    {
      "cell_type": "code",
      "metadata": {
        "id": "8E4jU5RYi_TN"
      },
      "source": [
        "#we mainly use .to() function, the GPU can help us to increase training speed\r\n",
        "def training_loop_gpu(n_epoches, optimizer, loss_fn, train_loader):\r\n",
        "  for epoch in range(1, 1+ n_epoches):\r\n",
        "    loss_train = 0.0\r\n",
        "    for imgs, labels in train_loader:\r\n",
        "      imgs = imgs.to(device = device)\r\n",
        "      labels = labels.to(device = device) #these 2 lines are major different\r\n",
        "\r\n",
        "      outputs = model(imgs)\r\n",
        "      loss = loss_fn(outputs, labels)\r\n",
        "\r\n",
        "      optimizer.zero_grad()\r\n",
        "      loss.backward()\r\n",
        "      optimizer.step()\r\n",
        "      loss_train += loss\r\n",
        "    if epoch==1 or epoch%10==0:\r\n",
        "      print('{} Epoch {}, Loss {}'.format(datetime.datetime.now(), epoch, loss_train/len(train_loader)))\r\n"
      ],
      "execution_count": null,
      "outputs": []
    },
    {
      "cell_type": "code",
      "metadata": {
        "id": "rno7Te6ym60J"
      },
      "source": [
        "train_loader = torch.utils.data.DataLoader(cifar2, batch_size = 64, shuffle = True)\r\n",
        "model = Net().to(device = device) # remember to transfer the Net to GPU as well!\r\n",
        "optimizer = optim.SGD(model.parameters(), lr=1e-2) \r\n",
        "loss_fn = nn.CrossEntropyLoss()\r\n"
      ],
      "execution_count": null,
      "outputs": []
    },
    {
      "cell_type": "code",
      "metadata": {
        "colab": {
          "base_uri": "https://localhost:8080/"
        },
        "id": "omhW9519nN30",
        "outputId": "06f528ab-b4d4-4c2a-e09d-de9f88e12d42"
      },
      "source": [
        "import datetime\r\n",
        "training_loop_gpu(100, optimizer, loss_fn, train_loader)"
      ],
      "execution_count": null,
      "outputs": [
        {
          "output_type": "stream",
          "text": [
            "2021-02-10 14:57:49.310864 Epoch 1, Loss 0.47730693221092224\n",
            "2021-02-10 14:57:52.600787 Epoch 10, Loss 0.31472137570381165\n",
            "2021-02-10 14:57:56.293862 Epoch 20, Loss 0.275509774684906\n",
            "2021-02-10 14:57:59.980038 Epoch 30, Loss 0.24683944880962372\n",
            "2021-02-10 14:58:03.673513 Epoch 40, Loss 0.21980898082256317\n",
            "2021-02-10 14:58:07.288320 Epoch 50, Loss 0.19890835881233215\n",
            "2021-02-10 14:58:11.122820 Epoch 60, Loss 0.17566034197807312\n",
            "2021-02-10 14:58:14.878909 Epoch 70, Loss 0.15419557690620422\n",
            "2021-02-10 14:58:18.664368 Epoch 80, Loss 0.13913945853710175\n",
            "2021-02-10 14:58:22.329181 Epoch 90, Loss 0.12175217270851135\n",
            "2021-02-10 14:58:25.967274 Epoch 100, Loss 0.10535082221031189\n"
          ],
          "name": "stdout"
        }
      ]
    },
    {
      "cell_type": "code",
      "metadata": {
        "id": "wjtj8vLdbw2Q"
      },
      "source": [
        "def validate_gpu(model, train_loader, val_loader):\r\n",
        "  for name, loader in [('train', train_loader), ('val', val_loader)]:\r\n",
        "    correct, total = 0, 0\r\n",
        "\r\n",
        "    with torch.no_grad():\r\n",
        "      for imgs, labels in loader:\r\n",
        "        imgs, labels = imgs.to(device), labels.to(device)\r\n",
        "        outputs = model(imgs)\r\n",
        "        _, predicted = torch.max(outputs, dim=1)\r\n",
        "        total += labels.shape[0]\r\n",
        "        correct += int( (labels == predicted).sum() )\r\n",
        "      \r\n",
        "    print('Accuracy {}: {:.2f} '.format(name, correct/total))\r\n"
      ],
      "execution_count": null,
      "outputs": []
    },
    {
      "cell_type": "code",
      "metadata": {
        "colab": {
          "base_uri": "https://localhost:8080/"
        },
        "id": "NP4CXi2hcLj-",
        "outputId": "30408a1b-10fa-4629-e60f-b9e776610d1f"
      },
      "source": [
        "train_loader = torch.utils.data.DataLoader(cifar2, batch_size = 64, shuffle = False)\r\n",
        "val_loader = torch.utils.data.DataLoader(cifar2_val, batch_size = 64, shuffle = False)\r\n",
        "validate_gpu(model, train_loader, val_loader)"
      ],
      "execution_count": null,
      "outputs": [
        {
          "output_type": "stream",
          "text": [
            "Accuracy train: 0.97 \n",
            "Accuracy val: 0.88 \n"
          ],
          "name": "stdout"
        }
      ]
    },
    {
      "cell_type": "markdown",
      "metadata": {
        "id": "-5aPG50Cf_ec"
      },
      "source": [
        "# Chapter8-exe"
      ]
    },
    {
      "cell_type": "code",
      "metadata": {
        "id": "yivNyFeHeLXa"
      },
      "source": [
        "import cv2\r\n",
        "image = cv2.imread('/content/drive/MyDrive/deep_learning_with_pytorch/rosket.jpg')"
      ],
      "execution_count": null,
      "outputs": []
    },
    {
      "cell_type": "code",
      "metadata": {
        "colab": {
          "base_uri": "https://localhost:8080/"
        },
        "id": "1Om0cusIe1t6",
        "outputId": "33dedc8f-054f-4d39-a39a-6d612c1bdcef"
      },
      "source": [
        "image.shape, type(image)"
      ],
      "execution_count": null,
      "outputs": [
        {
          "output_type": "execute_result",
          "data": {
            "text/plain": [
              "((341, 500, 3), numpy.ndarray)"
            ]
          },
          "metadata": {
            "tags": []
          },
          "execution_count": 41
        }
      ]
    },
    {
      "cell_type": "code",
      "metadata": {
        "id": "xQdmKJJ2e1wq"
      },
      "source": [
        "img = cv2.resize(image, (32, 32), interpolation=cv2.INTER_CUBIC)"
      ],
      "execution_count": null,
      "outputs": []
    },
    {
      "cell_type": "code",
      "metadata": {
        "colab": {
          "base_uri": "https://localhost:8080/"
        },
        "id": "gw3wuMGIe1zb",
        "outputId": "4d5fb8a7-8481-4e7a-bc1e-72bf6fae8d96"
      },
      "source": [
        "img.shape"
      ],
      "execution_count": null,
      "outputs": [
        {
          "output_type": "execute_result",
          "data": {
            "text/plain": [
              "(32, 32, 3)"
            ]
          },
          "metadata": {
            "tags": []
          },
          "execution_count": 44
        }
      ]
    },
    {
      "cell_type": "code",
      "metadata": {
        "id": "0PbKrSmse12J"
      },
      "source": [
        "img = torch.from_numpy(img).permute(2, 0, 1)"
      ],
      "execution_count": null,
      "outputs": []
    },
    {
      "cell_type": "code",
      "metadata": {
        "colab": {
          "base_uri": "https://localhost:8080/"
        },
        "id": "tDwzhjeJeLaL",
        "outputId": "cde1743e-f7f4-46ad-d368-5e7f8246ff7f"
      },
      "source": [
        "img.shape, type(img)"
      ],
      "execution_count": null,
      "outputs": [
        {
          "output_type": "execute_result",
          "data": {
            "text/plain": [
              "(torch.Size([3, 32, 32]), torch.Tensor)"
            ]
          },
          "metadata": {
            "tags": []
          },
          "execution_count": 50
        }
      ]
    },
    {
      "cell_type": "code",
      "metadata": {
        "id": "4x9ZnOY3fjEd"
      },
      "source": [
        "m = model.to(device)\r\n",
        "out = m(img.unsqueeze(0).float().to(device))"
      ],
      "execution_count": null,
      "outputs": []
    },
    {
      "cell_type": "code",
      "metadata": {
        "colab": {
          "base_uri": "https://localhost:8080/"
        },
        "id": "fTQe7jHgfjHs",
        "outputId": "658df8df-50a3-4fe3-ab00-d3ec9f71487d"
      },
      "source": [
        "out"
      ],
      "execution_count": null,
      "outputs": [
        {
          "output_type": "execute_result",
          "data": {
            "text/plain": [
              "tensor([[-4.3955,  3.8835]], device='cuda:0', grad_fn=<AddmmBackward>)"
            ]
          },
          "metadata": {
            "tags": []
          },
          "execution_count": 59
        }
      ]
    },
    {
      "cell_type": "code",
      "metadata": {
        "id": "Sgt1A16gfjLD"
      },
      "source": [
        ""
      ],
      "execution_count": null,
      "outputs": []
    },
    {
      "cell_type": "code",
      "metadata": {
        "colab": {
          "base_uri": "https://localhost:8080/"
        },
        "id": "2TsAgz77nVZa",
        "outputId": "de54fde0-db7b-4fff-dc70-a207e01f1e6b"
      },
      "source": [
        "# when store data, pytorch will store where the data derive, so we need to override the device info when loading\r\n",
        "loaded_model = Net().to(device=device)\r\n",
        "\r\n",
        "loaded_model.load_state_dict(torch.load(\"/content/drive/MyDrive/birds_vs_airplanes.pt\", map_location = device))"
      ],
      "execution_count": null,
      "outputs": [
        {
          "output_type": "execute_result",
          "data": {
            "text/plain": [
              "<All keys matched successfully>"
            ]
          },
          "metadata": {
            "tags": []
          },
          "execution_count": 51
        }
      ]
    },
    {
      "cell_type": "markdown",
      "metadata": {
        "id": "_YwkIAVBHw5o"
      },
      "source": [
        "# model design"
      ]
    },
    {
      "cell_type": "markdown",
      "metadata": {
        "id": "hnyhEEkpPcyU"
      },
      "source": [
        "## regularization"
      ]
    },
    {
      "cell_type": "code",
      "metadata": {
        "id": "t36uDJ9aoiJu"
      },
      "source": [
        "def train_loop_gpu_reg(n_epoches, optimizer, model, loss_fn, train_loader):\r\n",
        "  for epoch in range(1, 1+n_epoches):\r\n",
        "    train_loss = 0.0\r\n",
        "    for imgs, labels in train_loader:\r\n",
        "      imgs, labels = imgs.to(device), labels.to(device)\r\n",
        "\r\n",
        "      outputs = model(imgs)\r\n",
        "      loss = loss_fn(outputs, imgs)\r\n",
        "\r\n",
        "      l2_lambda = 1e-3\r\n",
        "      l2_norm = sum(p.pow(2.0).sum() for p in model.parameters() )\r\n",
        "      loss += l2_norm\r\n",
        "\r\n",
        "      optimizer.zero_grad()\r\n",
        "      loss.backward()\r\n",
        "      optimizer.step()\r\n",
        "      train_loss += float(loss)\r\n",
        "    if epoch == 1 or epoch%10==0:\r\n",
        "      print('{} Epoch {}, Loss {}'.format(datetime.datetime.now(), epoch, train_loss/len(train_loader)))"
      ],
      "execution_count": null,
      "outputs": []
    },
    {
      "cell_type": "markdown",
      "metadata": {
        "id": "RAefA-aUPfRA"
      },
      "source": [
        "## dropout"
      ]
    },
    {
      "cell_type": "code",
      "metadata": {
        "id": "YosgQ8Wjv8So"
      },
      "source": [
        "# dropout strategy, applying nn.dropout in out model\r\n",
        "import torch.nn as nn\r\n",
        "class NetDropOut(nn.Module):\r\n",
        "  def __init__(self, n_chansl = 32):\r\n",
        "    super().__init__()\r\n",
        "    self.n_chansl = n_chansl\r\n",
        "    self.conv1 = nn.Conv2d(3, n_chansl, 3, padding = 1)\r\n",
        "    self.drop1 = nn.Dropout2d(p=0.4)\r\n",
        "    self.conv2 = nn.Conv2d(n_chansl, n_chansl//2, 3, padding = 1)\r\n",
        "    self.drop2 = nn.Dropout2d(p=0.4)\r\n",
        "    self.fc1  = nn.Linear(8*8*n_chansl//2, 32)\r\n",
        "    self.fc2  = nn.Linear(32, 2)\r\n",
        "\r\n",
        "  def forward(self, x):\r\n",
        "    out = F.max_pool2d( torch.tanh( self.conv1(x) ), 2 )\r\n",
        "    out = self.drop1(out)\r\n",
        "    out = F.max_pool2d( torch.tanh( self.conv2(out)), 2 )\r\n",
        "    out = self.drop2(out)\r\n",
        "\r\n",
        "    out = out.view(-1, 8*8*self.n_chansl)\r\n",
        "\r\n",
        "    out = torch.tanh(self.fc1(out) )\r\n",
        "    out = self.fc2(out)\r\n",
        "    return out"
      ],
      "execution_count": null,
      "outputs": []
    },
    {
      "cell_type": "markdown",
      "metadata": {
        "id": "Z_o38Q54Pko2"
      },
      "source": [
        "## batch normalization"
      ]
    },
    {
      "cell_type": "code",
      "metadata": {
        "id": "ghyTV4zc1YwL"
      },
      "source": [
        "# batch normalization, nn.BatchNorm1d, nn.BatchNorm2d, nn.BatchNorm3d\r\n",
        "# 首先在__init__中要实现bn函数，其次在前向传播时，应在进入tanh之前运用bn\r\n",
        "class NetBN(nn.Module):\r\n",
        "  def __init__(self, n_chansl = 32):\r\n",
        "    super().__init__()\r\n",
        "    self.n_chansl = n_chansl\r\n",
        "    self.conv1 = nn.Conv2d(3, n_chansl, 3, padding = 1)\r\n",
        "    self.bn1 = nn.BatchNorm2d(n_chansl)\r\n",
        "    self.conv2 = nn.Conv2d(n_chansl, n_chansl//2, 3, padding = 1)\r\n",
        "    self.bn2 = nn.BatchNorm2d(n_chansl//2)\r\n",
        "    self.fc1  = nn.Linear(8*8*n_chansl//2, 32)\r\n",
        "    self.fc2  = nn.Linear(32, 2)\r\n",
        "\r\n",
        "  def forward(self, x):\r\n",
        "    out = self.bn1( self.conv1(x) )\r\n",
        "    out = F.max_pool2d(torch.tanh(out), 2)\r\n",
        "    out = self.bn2( self.conv2(out))\r\n",
        "    out = F.max_pool2d( torch.tanh(out), 2 )\r\n",
        "\r\n",
        "    out = out.view(-1, 8*8*self.n_chansl)\r\n",
        "\r\n",
        "    out = torch.tanh(self.fc1(out) )\r\n",
        "    out = self.fc2(out)\r\n",
        "    return out"
      ],
      "execution_count": null,
      "outputs": []
    },
    {
      "cell_type": "markdown",
      "metadata": {
        "id": "lm98WKNSPo4H"
      },
      "source": [
        "## res network"
      ]
    },
    {
      "cell_type": "code",
      "metadata": {
        "id": "aRmCjiew3gxV"
      },
      "source": [
        "# residual network, aidding to build a very deep model\r\n",
        "# change the activation function to nn.relu(), add another conv layer\r\n",
        "class NetDepth(nn.Module):\r\n",
        "  def __init__(self, n_chansl = 32):\r\n",
        "    super().__init__()\r\n",
        "    self.n_chansl = n_chansl\r\n",
        "    self.conv1 = nn.Conv2d(3, n_chansl, 3, padding = 1)\r\n",
        "    \r\n",
        "    self.conv2 = nn.Conv2d(n_chansl, n_chansl//2, 3, padding = 1)\r\n",
        "    self.conv3 = nn.Conv2d(n_chansl//2, n_chansl//2, 3, padding = 1)\r\n",
        "    self.fc1  = nn.Linear(4*4*n_chansl//2, 32)\r\n",
        "    self.fc2  = nn.Linear(32, 2)\r\n",
        "\r\n",
        "  def forward(self, x):\r\n",
        "    out = F.max_pool2d( torch.relu( self.conv1(x) ), 2 )\r\n",
        "    \r\n",
        "    out = F.max_pool2d( torch.relu( self.conv2(out)), 2 )\r\n",
        "    out = F.max_pool2d( torch.relu( self.conv3(out)), 2 )\r\n",
        "\r\n",
        "    out = out.view(-1, 4*4*self.n_chansl)\r\n",
        "\r\n",
        "    out = torch.relu(self.fc1(out) )\r\n",
        "    out = self.fc2(out)\r\n",
        "    return out"
      ],
      "execution_count": null,
      "outputs": []
    },
    {
      "cell_type": "code",
      "metadata": {
        "id": "UavqKa8W6erd"
      },
      "source": [
        "import torch.nn as nn\r\n",
        "class NetRes(nn.Module):\r\n",
        "  def __init__(self, n_chansl = 32):\r\n",
        "    super().__init__()\r\n",
        "    self.n_chansl = n_chansl\r\n",
        "    self.conv1 = nn.Conv2d(3, n_chansl, 3, padding = 1)\r\n",
        "    \r\n",
        "    self.conv2 = nn.Conv2d(n_chansl, n_chansl//2, 3, padding = 1)\r\n",
        "    self.conv3 = nn.Conv2d(n_chansl//2, n_chansl//2, 3, padding = 1)\r\n",
        "    self.fc1  = nn.Linear(4*4*n_chansl//2, 32)\r\n",
        "    self.fc2  = nn.Linear(32, 2)\r\n",
        "\r\n",
        "  def forward(self, x):\r\n",
        "    out = F.max_pool2d( torch.relu( self.conv1(x) ), 2 )\r\n",
        "    out = F.max_pool2d( torch.relu( self.conv2(out)), 2 )\r\n",
        "\r\n",
        "    out1 = out\r\n",
        "\r\n",
        "    out = F.max_pool2d( torch.relu( self.conv3(out)) + out1, 2 )\r\n",
        "    out = out.view(-1, 4*4*self.n_chansl)\r\n",
        "    out = torch.relu(self.fc1(out) )\r\n",
        "    out = self.fc2(out)\r\n",
        "    return out"
      ],
      "execution_count": null,
      "outputs": []
    },
    {
      "cell_type": "markdown",
      "metadata": {
        "id": "CiE2dXwJPskA"
      },
      "source": [
        "## build a very deep NES network\r\n"
      ]
    },
    {
      "cell_type": "code",
      "metadata": {
        "id": "g3enFgBHPY3M"
      },
      "source": [
        "# it consists of 100 ResBolocks and other parts\r\n",
        "# 1 write a subclass: ResBlock\r\n",
        "class ResBlock(nn.Module):\r\n",
        "  def __init__(self, n_chans):\r\n",
        "    super().__init__()\r\n",
        "    self.n_chans = n_chans\r\n",
        "    self.conv = nn.Cov2d(n_chans, n_chans, 3, padding=1, bias=False)\r\n",
        "    self.bn  = nn.BatchNorm2d(num_features = n_chans)\r\n",
        "    \r\n",
        "    torch.nn.init.kaiming_normal_(self.conv.weight, nonlinearity = 'relu') #initialize bn's paras according to some paper\r\n",
        "\r\n",
        "    torch.nn.init.constant_(self.bn.weight, 0.5)\r\n",
        "\r\n",
        "    torch.nn.init.zeros_(self.bn.bias)\r\n",
        "  \r\n",
        "  def forward(self, x):\r\n",
        "    out = self.conv(x)\r\n",
        "    out = self.bn(out)\r\n",
        "    out = torch.relu(out)\r\n",
        "    return out+x"
      ],
      "execution_count": null,
      "outputs": []
    },
    {
      "cell_type": "code",
      "metadata": {
        "id": "-bZKuJ_GVf9M"
      },
      "source": [
        "# 2 build the whole network\r\n",
        "class NetResDeep(nn.Module):\r\n",
        "  def __init__(self, n_chans1=32, n_blocks = 10):\r\n",
        "    super().__init__()\r\n",
        "    self.n_chans1 = n_chans1\r\n",
        "    self.conv1 = nn.Conv2d(3, n_chans1, 3, padding = 1)\r\n",
        "    self.resblocks = nn.Sequential(\r\n",
        "        *(n_blocks * [ResBlock(n_chans = n_chans1)])\r\n",
        "    )\r\n",
        "    self.fc1 = nn.Linear(8*8*n_chans1, 32)\r\n",
        "    self.fc2 = nn.Linear(32, 2)\r\n",
        "  \r\n",
        "  def forward(self, x):\r\n",
        "    out = F.max_pool2d( torch.tanh( self.conv1(x)), 2 )\r\n",
        "    out = self.resblocks(out)\r\n",
        "    out = F.max_pool2d(out, 2)\r\n",
        "    out = out.view(-1, 8*8*self.n_chans1)\r\n",
        "    out = torch.tanh(self.fc1(out))\r\n",
        "    out = self.fc2(out)\r\n",
        "    return out"
      ],
      "execution_count": null,
      "outputs": []
    },
    {
      "cell_type": "code",
      "metadata": {
        "id": "1pZ3GvxjYKMB"
      },
      "source": [
        ""
      ],
      "execution_count": null,
      "outputs": []
    }
  ]
}