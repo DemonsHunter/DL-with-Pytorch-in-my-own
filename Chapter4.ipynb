{
 "cells": [
  {
   "cell_type": "markdown",
   "metadata": {},
   "source": [
    "# pictures read and normalize"
   ]
  },
  {
   "cell_type": "code",
   "execution_count": 1,
   "metadata": {
    "ExecuteTime": {
     "end_time": "2021-02-04T07:16:30.132646Z",
     "start_time": "2021-02-04T07:16:30.082592Z"
    }
   },
   "outputs": [],
   "source": [
    "import imageio"
   ]
  },
  {
   "cell_type": "code",
   "execution_count": 2,
   "metadata": {
    "ExecuteTime": {
     "end_time": "2021-02-04T07:17:08.227859Z",
     "start_time": "2021-02-04T07:17:07.268791Z"
    }
   },
   "outputs": [],
   "source": [
    "img_arr = imageio.imread('../DL with PyTorch/data/bobby.jpg')"
   ]
  },
  {
   "cell_type": "code",
   "execution_count": 3,
   "metadata": {
    "ExecuteTime": {
     "end_time": "2021-02-04T07:17:16.903870Z",
     "start_time": "2021-02-04T07:17:16.893897Z"
    }
   },
   "outputs": [
    {
     "data": {
      "text/plain": [
       "(720, 1280, 3)"
      ]
     },
     "execution_count": 3,
     "metadata": {},
     "output_type": "execute_result"
    }
   ],
   "source": [
    "img_arr.shape # numpy array-like object, H*W*C, respectivel"
   ]
  },
  {
   "cell_type": "code",
   "execution_count": 4,
   "metadata": {
    "ExecuteTime": {
     "end_time": "2021-02-04T07:19:34.424079Z",
     "start_time": "2021-02-04T07:19:33.935002Z"
    }
   },
   "outputs": [],
   "source": [
    "#change it into C*H*W\n",
    "import torch\n",
    "img = torch.from_numpy(img_arr)\n",
    "out = img.permute(2,0,1)"
   ]
  },
  {
   "cell_type": "code",
   "execution_count": 6,
   "metadata": {
    "ExecuteTime": {
     "end_time": "2021-02-04T07:22:20.665976Z",
     "start_time": "2021-02-04T07:22:20.495989Z"
    }
   },
   "outputs": [],
   "source": [
    "batch_size = 3\n",
    "batch = torch.zeros(batch_size, 3, 256, 256, dtype = torch.uint8)"
   ]
  },
  {
   "cell_type": "markdown",
   "metadata": {},
   "source": [
    "## read multiple pics"
   ]
  },
  {
   "cell_type": "code",
   "execution_count": 8,
   "metadata": {
    "ExecuteTime": {
     "end_time": "2021-02-04T07:32:03.581342Z",
     "start_time": "2021-02-04T07:32:03.447729Z"
    }
   },
   "outputs": [],
   "source": [
    "import os\n",
    "data_dir = '../DL with PyTorch/data/image-cats'\n",
    "filenames = [name for name in os.listdir(data_dir) if os.path.splitext(name)[-1]=='.png']\n",
    "\n",
    "for i, filename in enumerate(filenames):\n",
    "    img_arr = imageio.imread(os.path.join(data_dir, filename))\n",
    "    img_t = torch.from_numpy(img_arr)\n",
    "    img_t = img_t.permute(2,0,1)\n",
    "    img_t = img_t[:3] #flit the alpha channel\n",
    "    batch[i] = img_t"
   ]
  },
  {
   "cell_type": "markdown",
   "metadata": {},
   "source": [
    "## normalize pics"
   ]
  },
  {
   "cell_type": "code",
   "execution_count": 9,
   "metadata": {
    "ExecuteTime": {
     "end_time": "2021-02-04T07:33:51.587132Z",
     "start_time": "2021-02-04T07:33:51.386670Z"
    }
   },
   "outputs": [],
   "source": [
    "batch = batch.float()\n",
    "batch /= 255.0"
   ]
  },
  {
   "cell_type": "code",
   "execution_count": 10,
   "metadata": {
    "ExecuteTime": {
     "end_time": "2021-02-04T07:35:12.015341Z",
     "start_time": "2021-02-04T07:35:11.867710Z"
    }
   },
   "outputs": [],
   "source": [
    "n_channels = batch.shape[1]\n",
    "for c in range(n_channels):\n",
    "    mean = torch.mean(batch[:,c])\n",
    "    std = torch.std(batch[:,c])\n",
    "    batch[:,c] = (batch[:,c]-mean)/std"
   ]
  },
  {
   "cell_type": "code",
   "execution_count": 16,
   "metadata": {
    "ExecuteTime": {
     "end_time": "2021-02-04T07:40:17.911585Z",
     "start_time": "2021-02-04T07:40:13.789434Z"
    }
   },
   "outputs": [
    {
     "name": "stdout",
     "output_type": "stream",
     "text": [
      "<PIL.Image.Image image mode=RGB size=256x256 at 0x17970142A08>\n",
      "<PIL.Image.Image image mode=RGB size=256x256 at 0x1796A3AB648>\n",
      "<PIL.Image.Image image mode=RGB size=256x256 at 0x17970142B48>\n"
     ]
    }
   ],
   "source": [
    "from torchvision import transforms\n",
    "for i in range(batch.shape[0]):\n",
    "    out_t = batch[i]\n",
    "    out_img = transforms.ToPILImage()(out_t)\n",
    "    out_img.show()\n",
    "    print(out_img)"
   ]
  },
  {
   "cell_type": "code",
   "execution_count": 20,
   "metadata": {
    "ExecuteTime": {
     "end_time": "2021-02-04T07:44:18.349950Z",
     "start_time": "2021-02-04T07:44:18.330003Z"
    }
   },
   "outputs": [
    {
     "name": "stdout",
     "output_type": "stream",
     "text": [
      "torch.Size([3, 256, 256])\n",
      "torch.Size([3, 256, 256])\n",
      "torch.Size([3, 256, 256])\n"
     ]
    }
   ],
   "source": [
    "for i in range(batch.shape[0]):\n",
    "    print(batch[i].shape)\n",
    "    torch.save(batch[i], '../DL with PyTorch/data/clean-image-cats.t')"
   ]
  },
  {
   "cell_type": "code",
   "execution_count": 18,
   "metadata": {
    "ExecuteTime": {
     "end_time": "2021-02-04T07:44:00.028654Z",
     "start_time": "2021-02-04T07:43:59.321546Z"
    }
   },
   "outputs": [],
   "source": [
    "p_load = torch.load('../DL with PyTorch/outpoints.t')"
   ]
  },
  {
   "cell_type": "code",
   "execution_count": 19,
   "metadata": {
    "ExecuteTime": {
     "end_time": "2021-02-04T07:44:04.300223Z",
     "start_time": "2021-02-04T07:44:04.295237Z"
    }
   },
   "outputs": [
    {
     "data": {
      "text/plain": [
       "torch.Size([3, 4])"
      ]
     },
     "execution_count": 19,
     "metadata": {},
     "output_type": "execute_result"
    }
   ],
   "source": [
    "p_load.shape"
   ]
  },
  {
   "cell_type": "markdown",
   "metadata": {},
   "source": [
    "# 3D images:Volumetric data"
   ]
  },
  {
   "cell_type": "code",
   "execution_count": 22,
   "metadata": {
    "ExecuteTime": {
     "end_time": "2021-02-04T07:52:46.359613Z",
     "start_time": "2021-02-04T07:52:42.996610Z"
    }
   },
   "outputs": [
    {
     "name": "stdout",
     "output_type": "stream",
     "text": [
      "Reading DICOM (examining files): 1/99 files (1.0%5/99 files (5.1%10/99 files (10.1%16/99 files (16.2%22/99 files (22.2%28/99 files (28.3%35/99 files (35.4%43/99 files (43.4%50/99 files (50.5%58/99 files (58.6%67/99 files (67.7%73/99 files (73.7%79/99 files (79.8%84/99 files (84.8%92/99 files (92.9%99/99 files (100.0%)\n",
      "  Found 1 correct series.\n",
      "Reading DICOM (loading data): 17/99  (17.228/99  (28.341/99  (41.448/99  (48.559/99  (59.667/99  (67.778/99  (78.884/99  (84.891/99  (91.999/99  (100.0%99/99  (100.0%)\n"
     ]
    }
   ],
   "source": [
    "#in medical case, the images are 5D: N*C*D*H*W, D=depth\n",
    "dir_path = 'D:\\jupyter_path\\dlwpt-code-master\\data\\p1ch4\\\\volumetric-dicom\\\\2-LUNG 3.0  B70f-04083'\n",
    "vol_arr = imageio.volread(dir_path, 'DICOM')"
   ]
  },
  {
   "cell_type": "code",
   "execution_count": 25,
   "metadata": {
    "ExecuteTime": {
     "end_time": "2021-02-04T07:53:54.791078Z",
     "start_time": "2021-02-04T07:53:54.752182Z"
    }
   },
   "outputs": [
    {
     "name": "stdout",
     "output_type": "stream",
     "text": [
      "torch.Size([99, 512, 512])\n"
     ]
    }
   ],
   "source": [
    "\n",
    "vol = torch.from_numpy(vol_arr).float()\n",
    "print(vol.shape)\n",
    "vol = torch.unsqueeze(vol, 0)"
   ]
  },
  {
   "cell_type": "code",
   "execution_count": 26,
   "metadata": {
    "ExecuteTime": {
     "end_time": "2021-02-04T07:54:12.246581Z",
     "start_time": "2021-02-04T07:54:12.241593Z"
    }
   },
   "outputs": [
    {
     "data": {
      "text/plain": [
       "torch.Size([1, 99, 512, 512])"
      ]
     },
     "execution_count": 26,
     "metadata": {},
     "output_type": "execute_result"
    }
   ],
   "source": [
    "vol.shape"
   ]
  },
  {
   "cell_type": "markdown",
   "metadata": {},
   "source": [
    "# CSV Data: Wine Prediction"
   ]
  },
  {
   "cell_type": "markdown",
   "metadata": {},
   "source": [
    "## 首先用np.loadtxt读入除第一行以外的所有数据"
   ]
  },
  {
   "cell_type": "code",
   "execution_count": 7,
   "metadata": {
    "ExecuteTime": {
     "end_time": "2021-02-05T01:22:05.712655Z",
     "start_time": "2021-02-05T01:22:05.629912Z"
    }
   },
   "outputs": [],
   "source": [
    "import csv\n",
    "import numpy as np\n",
    "wine_path = '../dlwpt-code-master/data/p1ch4/tabular-wine/winequality-white.csv'\n",
    "wine_np = np.loadtxt(wine_path, dtype=np.float32, delimiter=';', skiprows= 1)"
   ]
  },
  {
   "cell_type": "code",
   "execution_count": 8,
   "metadata": {
    "ExecuteTime": {
     "end_time": "2021-02-05T01:22:06.955928Z",
     "start_time": "2021-02-05T01:22:06.948947Z"
    }
   },
   "outputs": [
    {
     "data": {
      "text/plain": [
       "(array([[7.000e+00, 2.700e-01, 3.600e-01, 2.070e+01, 4.500e-02, 4.500e+01,\n",
       "         1.700e+02, 1.001e+00, 3.000e+00, 4.500e-01, 8.800e+00, 6.000e+00],\n",
       "        [6.300e+00, 3.000e-01, 3.400e-01, 1.600e+00, 4.900e-02, 1.400e+01,\n",
       "         1.320e+02, 9.940e-01, 3.300e+00, 4.900e-01, 9.500e+00, 6.000e+00],\n",
       "        [8.100e+00, 2.800e-01, 4.000e-01, 6.900e+00, 5.000e-02, 3.000e+01,\n",
       "         9.700e+01, 9.951e-01, 3.260e+00, 4.400e-01, 1.010e+01, 6.000e+00],\n",
       "        [7.200e+00, 2.300e-01, 3.200e-01, 8.500e+00, 5.800e-02, 4.700e+01,\n",
       "         1.860e+02, 9.956e-01, 3.190e+00, 4.000e-01, 9.900e+00, 6.000e+00],\n",
       "        [7.200e+00, 2.300e-01, 3.200e-01, 8.500e+00, 5.800e-02, 4.700e+01,\n",
       "         1.860e+02, 9.956e-01, 3.190e+00, 4.000e-01, 9.900e+00, 6.000e+00]],\n",
       "       dtype=float32), (4898, 12))"
      ]
     },
     "execution_count": 8,
     "metadata": {},
     "output_type": "execute_result"
    }
   ],
   "source": [
    "wine_np[:5], wine_np.shape"
   ]
  },
  {
   "cell_type": "markdown",
   "metadata": {},
   "source": [
    "## 然后读入第一行的标题"
   ]
  },
  {
   "cell_type": "code",
   "execution_count": 9,
   "metadata": {
    "ExecuteTime": {
     "end_time": "2021-02-05T01:22:11.924324Z",
     "start_time": "2021-02-05T01:22:11.919365Z"
    }
   },
   "outputs": [],
   "source": [
    "col_list = next(csv.reader(open(wine_path), delimiter=';'))"
   ]
  },
  {
   "cell_type": "code",
   "execution_count": 10,
   "metadata": {
    "ExecuteTime": {
     "end_time": "2021-02-05T01:22:12.400402Z",
     "start_time": "2021-02-05T01:22:12.396412Z"
    }
   },
   "outputs": [
    {
     "data": {
      "text/plain": [
       "['fixed acidity',\n",
       " 'volatile acidity',\n",
       " 'citric acid',\n",
       " 'residual sugar',\n",
       " 'chlorides',\n",
       " 'free sulfur dioxide',\n",
       " 'total sulfur dioxide',\n",
       " 'density',\n",
       " 'pH',\n",
       " 'sulphates',\n",
       " 'alcohol',\n",
       " 'quality']"
      ]
     },
     "execution_count": 10,
     "metadata": {},
     "output_type": "execute_result"
    }
   ],
   "source": [
    "col_list"
   ]
  },
  {
   "cell_type": "code",
   "execution_count": 11,
   "metadata": {
    "ExecuteTime": {
     "end_time": "2021-02-05T01:22:16.558379Z",
     "start_time": "2021-02-05T01:22:16.554364Z"
    }
   },
   "outputs": [],
   "source": [
    "import torch\n",
    "wine_tensor = torch.from_numpy(wine_np)"
   ]
  },
  {
   "cell_type": "code",
   "execution_count": 12,
   "metadata": {
    "ExecuteTime": {
     "end_time": "2021-02-05T01:22:18.011285Z",
     "start_time": "2021-02-05T01:22:18.006325Z"
    }
   },
   "outputs": [
    {
     "data": {
      "text/plain": [
       "(torch.Size([4898, 12]), torch.float32)"
      ]
     },
     "execution_count": 12,
     "metadata": {},
     "output_type": "execute_result"
    }
   ],
   "source": [
    "wine_tensor.shape, wine_tensor.dtype"
   ]
  },
  {
   "cell_type": "code",
   "execution_count": 13,
   "metadata": {
    "ExecuteTime": {
     "end_time": "2021-02-05T01:22:56.002311Z",
     "start_time": "2021-02-05T01:22:55.997352Z"
    }
   },
   "outputs": [],
   "source": [
    "#提取数据\n",
    "data = wine_tensor[:,:-1]"
   ]
  },
  {
   "cell_type": "code",
   "execution_count": 14,
   "metadata": {
    "ExecuteTime": {
     "end_time": "2021-02-05T01:23:05.777040Z",
     "start_time": "2021-02-05T01:23:05.675330Z"
    }
   },
   "outputs": [
    {
     "data": {
      "text/plain": [
       "(tensor([[7.0000e+00, 2.7000e-01, 3.6000e-01, 2.0700e+01, 4.5000e-02, 4.5000e+01,\n",
       "          1.7000e+02, 1.0010e+00, 3.0000e+00, 4.5000e-01, 8.8000e+00],\n",
       "         [6.3000e+00, 3.0000e-01, 3.4000e-01, 1.6000e+00, 4.9000e-02, 1.4000e+01,\n",
       "          1.3200e+02, 9.9400e-01, 3.3000e+00, 4.9000e-01, 9.5000e+00],\n",
       "         [8.1000e+00, 2.8000e-01, 4.0000e-01, 6.9000e+00, 5.0000e-02, 3.0000e+01,\n",
       "          9.7000e+01, 9.9510e-01, 3.2600e+00, 4.4000e-01, 1.0100e+01],\n",
       "         [7.2000e+00, 2.3000e-01, 3.2000e-01, 8.5000e+00, 5.8000e-02, 4.7000e+01,\n",
       "          1.8600e+02, 9.9560e-01, 3.1900e+00, 4.0000e-01, 9.9000e+00],\n",
       "         [7.2000e+00, 2.3000e-01, 3.2000e-01, 8.5000e+00, 5.8000e-02, 4.7000e+01,\n",
       "          1.8600e+02, 9.9560e-01, 3.1900e+00, 4.0000e-01, 9.9000e+00]]),\n",
       " torch.Size([4898, 11]))"
      ]
     },
     "execution_count": 14,
     "metadata": {},
     "output_type": "execute_result"
    }
   ],
   "source": [
    "data[:5],data.shape"
   ]
  },
  {
   "cell_type": "code",
   "execution_count": 18,
   "metadata": {
    "ExecuteTime": {
     "end_time": "2021-02-05T01:27:55.661424Z",
     "start_time": "2021-02-05T01:27:55.657434Z"
    }
   },
   "outputs": [],
   "source": [
    "#提取标签，法1\n",
    "target = wine_tensor[:,-1].long()"
   ]
  },
  {
   "cell_type": "code",
   "execution_count": 19,
   "metadata": {
    "ExecuteTime": {
     "end_time": "2021-02-05T01:27:56.200115Z",
     "start_time": "2021-02-05T01:27:56.195128Z"
    }
   },
   "outputs": [
    {
     "data": {
      "text/plain": [
       "(tensor([6, 6, 6, 6, 6]), torch.Size([4898]))"
      ]
     },
     "execution_count": 19,
     "metadata": {},
     "output_type": "execute_result"
    }
   ],
   "source": [
    "target[:5],target.shape"
   ]
  },
  {
   "cell_type": "code",
   "execution_count": 24,
   "metadata": {
    "ExecuteTime": {
     "end_time": "2021-02-05T01:35:41.964678Z",
     "start_time": "2021-02-05T01:35:41.957696Z"
    }
   },
   "outputs": [
    {
     "data": {
      "text/plain": [
       "tensor([[0., 0., 0.,  ..., 0., 0., 0.],\n",
       "        [0., 0., 0.,  ..., 0., 0., 0.],\n",
       "        [0., 0., 0.,  ..., 0., 0., 0.],\n",
       "        ...,\n",
       "        [0., 0., 0.,  ..., 0., 0., 0.],\n",
       "        [0., 0., 0.,  ..., 1., 0., 0.],\n",
       "        [0., 0., 0.,  ..., 0., 0., 0.]])"
      ]
     },
     "execution_count": 24,
     "metadata": {},
     "output_type": "execute_result"
    }
   ],
   "source": [
    "#提取标签，法2：one-hot\n",
    "target_onehot = torch.zeros(target.shape[0], 10)\n",
    "target_onehot.scatter_(1, target.unsqueeze(1), 1.0) #for each row, take the index of the target label and use it as the column index to set the value 1.0"
   ]
  },
  {
   "cell_type": "code",
   "execution_count": 25,
   "metadata": {
    "ExecuteTime": {
     "end_time": "2021-02-05T01:38:30.553907Z",
     "start_time": "2021-02-05T01:38:30.479137Z"
    }
   },
   "outputs": [],
   "source": [
    "data_mean = data.mean(dim=0)"
   ]
  },
  {
   "cell_type": "code",
   "execution_count": 27,
   "metadata": {
    "ExecuteTime": {
     "end_time": "2021-02-05T01:38:39.751015Z",
     "start_time": "2021-02-05T01:38:39.745031Z"
    }
   },
   "outputs": [
    {
     "data": {
      "text/plain": [
       "tensor([6.8548e+00, 2.7824e-01, 3.3419e-01, 6.3914e+00, 4.5772e-02, 3.5308e+01,\n",
       "        1.3836e+02, 9.9403e-01, 3.1883e+00, 4.8985e-01, 1.0514e+01])"
      ]
     },
     "execution_count": 27,
     "metadata": {},
     "output_type": "execute_result"
    }
   ],
   "source": [
    "data_mean"
   ]
  },
  {
   "cell_type": "code",
   "execution_count": 28,
   "metadata": {
    "ExecuteTime": {
     "end_time": "2021-02-05T01:38:53.597799Z",
     "start_time": "2021-02-05T01:38:53.585831Z"
    }
   },
   "outputs": [
    {
     "data": {
      "text/plain": [
       "tensor([7.1211e-01, 1.0160e-02, 1.4646e-02, 2.5726e+01, 4.7733e-04, 2.8924e+02,\n",
       "        1.8061e+03, 8.9455e-06, 2.2801e-02, 1.3025e-02, 1.5144e+00])"
      ]
     },
     "execution_count": 28,
     "metadata": {},
     "output_type": "execute_result"
    }
   ],
   "source": [
    "data_var = data.var(dim=0)\n",
    "data_var"
   ]
  },
  {
   "cell_type": "code",
   "execution_count": 29,
   "metadata": {
    "ExecuteTime": {
     "end_time": "2021-02-05T02:00:57.158012Z",
     "start_time": "2021-02-05T02:00:57.032060Z"
    }
   },
   "outputs": [],
   "source": [
    "data_normalized = (data - data_mean)/data_var"
   ]
  },
  {
   "cell_type": "markdown",
   "metadata": {},
   "source": [
    "## 一个简单的方法，来提取所有分数<3的样本"
   ]
  },
  {
   "cell_type": "code",
   "execution_count": 30,
   "metadata": {
    "ExecuteTime": {
     "end_time": "2021-02-05T02:01:51.656378Z",
     "start_time": "2021-02-05T02:01:51.539517Z"
    }
   },
   "outputs": [
    {
     "data": {
      "text/plain": [
       "(torch.Size([4898]), torch.bool, tensor(20))"
      ]
     },
     "execution_count": 30,
     "metadata": {},
     "output_type": "execute_result"
    }
   ],
   "source": [
    "bad_indexes = target<=3\n",
    "bad_indexes.shape, bad_indexes.dtype, bad_indexes.sum()"
   ]
  },
  {
   "cell_type": "code",
   "execution_count": 31,
   "metadata": {
    "ExecuteTime": {
     "end_time": "2021-02-05T02:03:49.039276Z",
     "start_time": "2021-02-05T02:03:48.920631Z"
    }
   },
   "outputs": [
    {
     "data": {
      "text/plain": [
       "torch.Size([20, 11])"
      ]
     },
     "execution_count": 31,
     "metadata": {},
     "output_type": "execute_result"
    }
   ],
   "source": [
    "bad_data = data[bad_indexes]\n",
    "bad_data.shape"
   ]
  },
  {
   "cell_type": "code",
   "execution_count": 33,
   "metadata": {
    "ExecuteTime": {
     "end_time": "2021-02-05T02:52:18.382666Z",
     "start_time": "2021-02-05T02:52:18.245275Z"
    }
   },
   "outputs": [],
   "source": [
    "bad_mean = bad_data.mean(dim=1)\n",
    "mid_data = data[(target>3) & (target<7)]\n",
    "good_data = data[target>=7]"
   ]
  },
  {
   "cell_type": "code",
   "execution_count": 34,
   "metadata": {
    "ExecuteTime": {
     "end_time": "2021-02-05T03:20:32.941758Z",
     "start_time": "2021-02-05T03:20:32.929791Z"
    }
   },
   "outputs": [],
   "source": [
    "mid_mean = mid_data.mean(dim=1)\n",
    "good_mean = good_data.mean(dim=1)"
   ]
  },
  {
   "cell_type": "code",
   "execution_count": 36,
   "metadata": {
    "ExecuteTime": {
     "end_time": "2021-02-05T03:21:44.059538Z",
     "start_time": "2021-02-05T03:21:44.042584Z"
    }
   },
   "outputs": [
    {
     "name": "stdout",
     "output_type": "stream",
     "text": [
      " 0 fixed acidity        25.23 23.33 19.74\n",
      " 1 volatile acidity     12.79 15.35 14.99\n",
      " 2 citric acid          21.89 14.32 11.83\n",
      " 3 residual sugar       10.63 23.98 11.83\n",
      " 4 chlorides             4.87 23.98 13.32\n",
      " 5 free sulfur dioxide   5.83 14.32 17.06\n",
      " 6 total sulfur dioxide 26.69 17.63 16.18\n",
      " 7 density              12.83 23.33 20.82\n",
      " 8 pH                   40.25 15.35 17.02\n",
      " 9 sulphates            15.31 16.63 11.50\n",
      "10 alcohol              32.53  9.16 16.51\n",
      "11 quality              43.59 13.98 13.73\n"
     ]
    }
   ],
   "source": [
    "for i, args in enumerate(zip(col_list, bad_mean, mid_mean, good_mean)):\n",
    "    print('{:2} {:20}{:6.2f}{:6.2f}{:6.2f}'.format(i, *args))"
   ]
  },
  {
   "cell_type": "code",
   "execution_count": 37,
   "metadata": {
    "ExecuteTime": {
     "end_time": "2021-02-05T03:23:23.172690Z",
     "start_time": "2021-02-05T03:23:22.848556Z"
    }
   },
   "outputs": [
    {
     "data": {
      "text/plain": [
       "(torch.Size([4898]), tensor(2727))"
      ]
     },
     "execution_count": 37,
     "metadata": {},
     "output_type": "execute_result"
    }
   ],
   "source": [
    "total_sulfur_threshold = 141.83\n",
    "total_sulfur_data = data[:,6]\n",
    "predicted_idx = torch.lt(total_sulfur_data, total_sulfur_threshold)\n",
    "predicted_idx.shape, predicted_idx.sum()"
   ]
  },
  {
   "cell_type": "code",
   "execution_count": 38,
   "metadata": {
    "ExecuteTime": {
     "end_time": "2021-02-05T03:23:56.625419Z",
     "start_time": "2021-02-05T03:23:56.619435Z"
    }
   },
   "outputs": [
    {
     "data": {
      "text/plain": [
       "(torch.Size([4898]), tensor(3258))"
      ]
     },
     "execution_count": 38,
     "metadata": {},
     "output_type": "execute_result"
    }
   ],
   "source": [
    "actual_idx = target>5\n",
    "actual_idx.shape, actual_idx.sum()"
   ]
  },
  {
   "cell_type": "code",
   "execution_count": 40,
   "metadata": {
    "ExecuteTime": {
     "end_time": "2021-02-05T03:25:19.325303Z",
     "start_time": "2021-02-05T03:25:19.320320Z"
    }
   },
   "outputs": [],
   "source": [
    "n_matches = torch.sum(actual_idx & predicted_idx).item()\n",
    "n_pre = torch.sum(predicted_idx).item()\n",
    "n_actual = torch.sum(actual_idx).item()"
   ]
  },
  {
   "cell_type": "code",
   "execution_count": 41,
   "metadata": {
    "ExecuteTime": {
     "end_time": "2021-02-05T03:25:55.936140Z",
     "start_time": "2021-02-05T03:25:55.931153Z"
    }
   },
   "outputs": [
    {
     "data": {
      "text/plain": [
       "(2018, 0.74000733406674)"
      ]
     },
     "execution_count": 41,
     "metadata": {},
     "output_type": "execute_result"
    }
   ],
   "source": [
    "n_matches, n_matches/n_pre"
   ]
  },
  {
   "cell_type": "markdown",
   "metadata": {},
   "source": [
    "# Time Series Data"
   ]
  },
  {
   "cell_type": "code",
   "execution_count": 42,
   "metadata": {
    "ExecuteTime": {
     "end_time": "2021-02-05T03:29:45.389838Z",
     "start_time": "2021-02-05T03:29:44.982928Z"
    }
   },
   "outputs": [],
   "source": [
    "bikes_addr = '../dlwpt-code-master/data/p1ch4/bike-sharing-dataset/hour-fixed.csv'\n",
    "bikes_np = np.loadtxt(bikes_addr, delimiter=',', skiprows=1, dtype=np.float32, converters={1:lambda x:float(x[8:10])})"
   ]
  },
  {
   "cell_type": "code",
   "execution_count": 43,
   "metadata": {
    "ExecuteTime": {
     "end_time": "2021-02-05T03:31:18.377677Z",
     "start_time": "2021-02-05T03:31:18.371693Z"
    }
   },
   "outputs": [],
   "source": [
    "bikes_tensor = torch.from_numpy(bikes_np)"
   ]
  },
  {
   "cell_type": "code",
   "execution_count": 44,
   "metadata": {
    "ExecuteTime": {
     "end_time": "2021-02-05T03:31:22.718747Z",
     "start_time": "2021-02-05T03:31:22.712763Z"
    }
   },
   "outputs": [
    {
     "data": {
      "text/plain": [
       "tensor([[ 1.0000,  1.0000,  1.0000,  0.0000,  1.0000,  0.0000,  0.0000,  6.0000,\n",
       "          0.0000,  1.0000,  0.2400,  0.2879,  0.8100,  0.0000,  3.0000, 13.0000,\n",
       "         16.0000],\n",
       "        [ 2.0000,  1.0000,  1.0000,  0.0000,  1.0000,  1.0000,  0.0000,  6.0000,\n",
       "          0.0000,  1.0000,  0.2200,  0.2727,  0.8000,  0.0000,  8.0000, 32.0000,\n",
       "         40.0000],\n",
       "        [ 3.0000,  1.0000,  1.0000,  0.0000,  1.0000,  2.0000,  0.0000,  6.0000,\n",
       "          0.0000,  1.0000,  0.2200,  0.2727,  0.8000,  0.0000,  5.0000, 27.0000,\n",
       "         32.0000],\n",
       "        [ 4.0000,  1.0000,  1.0000,  0.0000,  1.0000,  3.0000,  0.0000,  6.0000,\n",
       "          0.0000,  1.0000,  0.2400,  0.2879,  0.7500,  0.0000,  3.0000, 10.0000,\n",
       "         13.0000],\n",
       "        [ 5.0000,  1.0000,  1.0000,  0.0000,  1.0000,  4.0000,  0.0000,  6.0000,\n",
       "          0.0000,  1.0000,  0.2400,  0.2879,  0.7500,  0.0000,  0.0000,  1.0000,\n",
       "          1.0000]])"
      ]
     },
     "execution_count": 44,
     "metadata": {},
     "output_type": "execute_result"
    }
   ],
   "source": [
    "bikes_tensor[:5]"
   ]
  },
  {
   "cell_type": "code",
   "execution_count": 45,
   "metadata": {
    "ExecuteTime": {
     "end_time": "2021-02-05T05:12:13.383731Z",
     "start_time": "2021-02-05T05:12:13.378744Z"
    }
   },
   "outputs": [
    {
     "data": {
      "text/plain": [
       "(torch.Size([17520, 17]), (17, 1))"
      ]
     },
     "execution_count": 45,
     "metadata": {},
     "output_type": "execute_result"
    }
   ],
   "source": [
    "## break the data into N*C*L, N: number of samples, C: number of channel, L: length of a channel\n",
    "# in this case, we observe the bike hours, so L may 24, C from the original dada, which is 17\n",
    "bikes_tensor.shape, bikes_tensor.stride()"
   ]
  },
  {
   "cell_type": "code",
   "execution_count": 50,
   "metadata": {
    "ExecuteTime": {
     "end_time": "2021-02-05T05:17:48.638476Z",
     "start_time": "2021-02-05T05:17:48.632492Z"
    }
   },
   "outputs": [
    {
     "data": {
      "text/plain": [
       "(torch.Size([730, 24, 17]), (408, 17, 1))"
      ]
     },
     "execution_count": 50,
     "metadata": {},
     "output_type": "execute_result"
    }
   ],
   "source": [
    "daily_bikes = bikes_tensor.view(-1, 24, bikes_tensor.shape[1])\n",
    "daily_bikes.shape, daily_bikes.stride()"
   ]
  },
  {
   "cell_type": "code",
   "execution_count": 55,
   "metadata": {
    "ExecuteTime": {
     "end_time": "2021-02-05T05:50:42.231787Z",
     "start_time": "2021-02-05T05:50:41.864771Z"
    }
   },
   "outputs": [],
   "source": [
    "daily_bikes = daily_bikes.transpose(1,2) # to make it N*C*L"
   ]
  },
  {
   "cell_type": "code",
   "execution_count": 60,
   "metadata": {
    "ExecuteTime": {
     "end_time": "2021-02-05T05:52:57.609438Z",
     "start_time": "2021-02-05T05:52:57.602460Z"
    }
   },
   "outputs": [
    {
     "data": {
      "text/plain": [
       "tensor([1, 1, 1, 1, 1, 2, 1, 1, 1, 1, 1, 1, 1, 2, 2, 2, 2, 2, 3, 3, 2, 2, 2, 2])"
      ]
     },
     "execution_count": 60,
     "metadata": {},
     "output_type": "execute_result"
    }
   ],
   "source": [
    "first_day = bikes_tensor[:24].long()\n",
    "weather_onehot = torch.zeros(first_day.shape[0], 4)\n",
    "first_day[:,9]"
   ]
  },
  {
   "cell_type": "code",
   "execution_count": 62,
   "metadata": {
    "ExecuteTime": {
     "end_time": "2021-02-05T05:54:24.669238Z",
     "start_time": "2021-02-05T05:54:24.314147Z"
    }
   },
   "outputs": [
    {
     "data": {
      "text/plain": [
       "tensor([[1., 0., 0., 0.],\n",
       "        [1., 0., 0., 0.],\n",
       "        [1., 0., 0., 0.],\n",
       "        [1., 0., 0., 0.],\n",
       "        [1., 0., 0., 0.],\n",
       "        [0., 1., 0., 0.],\n",
       "        [1., 0., 0., 0.],\n",
       "        [1., 0., 0., 0.],\n",
       "        [1., 0., 0., 0.],\n",
       "        [1., 0., 0., 0.],\n",
       "        [1., 0., 0., 0.],\n",
       "        [1., 0., 0., 0.],\n",
       "        [1., 0., 0., 0.],\n",
       "        [0., 1., 0., 0.],\n",
       "        [0., 1., 0., 0.],\n",
       "        [0., 1., 0., 0.],\n",
       "        [0., 1., 0., 0.],\n",
       "        [0., 1., 0., 0.],\n",
       "        [0., 0., 1., 0.],\n",
       "        [0., 0., 1., 0.],\n",
       "        [0., 1., 0., 0.],\n",
       "        [0., 1., 0., 0.],\n",
       "        [0., 1., 0., 0.],\n",
       "        [0., 1., 0., 0.]])"
      ]
     },
     "execution_count": 62,
     "metadata": {},
     "output_type": "execute_result"
    }
   ],
   "source": [
    "weather_onehot.scatter_(dim=1, index = first_day[:,9].unsqueeze(1).long()-1, value = 1.0)"
   ]
  },
  {
   "cell_type": "code",
   "execution_count": 64,
   "metadata": {
    "ExecuteTime": {
     "end_time": "2021-02-05T05:56:53.091577Z",
     "start_time": "2021-02-05T05:56:53.085594Z"
    }
   },
   "outputs": [
    {
     "data": {
      "text/plain": [
       "tensor([[ 1.0000,  1.0000,  1.0000,  0.0000,  1.0000,  0.0000,  0.0000,  6.0000,\n",
       "          0.0000,  1.0000,  0.2400,  0.2879,  0.8100,  0.0000,  3.0000, 13.0000,\n",
       "         16.0000,  1.0000,  0.0000,  0.0000,  0.0000]])"
      ]
     },
     "execution_count": 64,
     "metadata": {},
     "output_type": "execute_result"
    }
   ],
   "source": [
    "torch.cat((bikes_tensor[:24], weather_onehot), 1)[:1]"
   ]
  },
  {
   "cell_type": "code",
   "execution_count": 65,
   "metadata": {
    "ExecuteTime": {
     "end_time": "2021-02-05T05:57:39.298011Z",
     "start_time": "2021-02-05T05:57:39.293024Z"
    }
   },
   "outputs": [],
   "source": [
    "daily_weather_onehot = torch.zeros(730, 4, 24)"
   ]
  },
  {
   "cell_type": "code",
   "execution_count": 66,
   "metadata": {
    "ExecuteTime": {
     "end_time": "2021-02-05T05:58:22.142291Z",
     "start_time": "2021-02-05T05:58:22.136307Z"
    }
   },
   "outputs": [
    {
     "data": {
      "text/plain": [
       "torch.Size([730, 4, 24])"
      ]
     },
     "execution_count": 66,
     "metadata": {},
     "output_type": "execute_result"
    }
   ],
   "source": [
    "daily_weather_onehot.scatter_(1, daily_bikes[:,9].long().unsqueeze(1)-1, 1.0)\n",
    "daily_weather_onehot.shape"
   ]
  },
  {
   "cell_type": "code",
   "execution_count": 67,
   "metadata": {
    "ExecuteTime": {
     "end_time": "2021-02-05T05:58:47.194489Z",
     "start_time": "2021-02-05T05:58:47.188535Z"
    }
   },
   "outputs": [],
   "source": [
    "daily_bikes = torch.cat((daily_bikes, daily_weather_onehot), dim = 1)"
   ]
  },
  {
   "cell_type": "markdown",
   "metadata": {},
   "source": [
    "# Text Representing"
   ]
  },
  {
   "cell_type": "code",
   "execution_count": 2,
   "metadata": {
    "ExecuteTime": {
     "end_time": "2021-02-06T01:40:07.201147Z",
     "start_time": "2021-02-06T01:40:07.195164Z"
    }
   },
   "outputs": [],
   "source": [
    "import torch\n",
    "with open('../dlwpt-code-master/data/p1ch4/jane-austen/1342-0.txt', encoding='utf-8') as f:\n",
    "    text = f.read()"
   ]
  },
  {
   "cell_type": "markdown",
   "metadata": {},
   "source": [
    "## split text into lines"
   ]
  },
  {
   "cell_type": "code",
   "execution_count": 4,
   "metadata": {
    "ExecuteTime": {
     "end_time": "2021-02-06T01:40:51.190517Z",
     "start_time": "2021-02-06T01:40:51.178577Z"
    }
   },
   "outputs": [
    {
     "data": {
      "text/plain": [
       "'“Impossible, Mr. Bennet, impossible, when I am not acquainted with him'"
      ]
     },
     "execution_count": 4,
     "metadata": {},
     "output_type": "execute_result"
    }
   ],
   "source": [
    "lines = text.split('\\n')\n",
    "line = lines[200]\n",
    "line"
   ]
  },
  {
   "cell_type": "code",
   "execution_count": 5,
   "metadata": {
    "ExecuteTime": {
     "end_time": "2021-02-06T01:41:35.115996Z",
     "start_time": "2021-02-06T01:41:34.941336Z"
    }
   },
   "outputs": [
    {
     "data": {
      "text/plain": [
       "torch.Size([70, 128])"
      ]
     },
     "execution_count": 5,
     "metadata": {},
     "output_type": "execute_result"
    }
   ],
   "source": [
    "letter_t = torch.zeros(len(line), 128)\n",
    "letter_t.shape"
   ]
  },
  {
   "cell_type": "code",
   "execution_count": 6,
   "metadata": {
    "ExecuteTime": {
     "end_time": "2021-02-06T01:43:13.174584Z",
     "start_time": "2021-02-06T01:43:13.071615Z"
    },
    "code_folding": []
   },
   "outputs": [],
   "source": [
    "for i, letter in enumerate(line.lower().strip()):\n",
    "    letter_idx = ord(letter) if ord(letter)<128 else 0\n",
    "    letter_t[i][letter_idx] = 1"
   ]
  },
  {
   "cell_type": "code",
   "execution_count": 7,
   "metadata": {
    "ExecuteTime": {
     "end_time": "2021-02-06T01:43:18.594392Z",
     "start_time": "2021-02-06T01:43:18.588408Z"
    }
   },
   "outputs": [
    {
     "data": {
      "text/plain": [
       "tensor([[1., 0., 0.,  ..., 0., 0., 0.],\n",
       "        [0., 0., 0.,  ..., 0., 0., 0.],\n",
       "        [0., 0., 0.,  ..., 0., 0., 0.],\n",
       "        ...,\n",
       "        [0., 0., 0.,  ..., 0., 0., 0.],\n",
       "        [0., 0., 0.,  ..., 0., 0., 0.],\n",
       "        [0., 0., 0.,  ..., 0., 0., 0.]])"
      ]
     },
     "execution_count": 7,
     "metadata": {},
     "output_type": "execute_result"
    }
   ],
   "source": [
    "letter_t"
   ]
  },
  {
   "cell_type": "code",
   "execution_count": 14,
   "metadata": {
    "ExecuteTime": {
     "end_time": "2021-02-06T02:47:21.049891Z",
     "start_time": "2021-02-06T02:47:21.044904Z"
    }
   },
   "outputs": [],
   "source": [
    "# 定义一个预处理函数\n",
    "def clean_words(input_str):\n",
    "    punc = '.,;:“”''\"\"!?_-'\n",
    "    word_list = input_str.lower().replace('\\n',' ').split()\n",
    "    word_list = [word.strip(punc) for word in word_list]\n",
    "    return word_list"
   ]
  },
  {
   "cell_type": "code",
   "execution_count": 11,
   "metadata": {
    "ExecuteTime": {
     "end_time": "2021-02-06T01:47:13.273037Z",
     "start_time": "2021-02-06T01:47:13.268050Z"
    }
   },
   "outputs": [
    {
     "data": {
      "text/plain": [
       "('“Impossible, Mr. Bennet, impossible, when I am not acquainted with him',\n",
       " ['impossible',\n",
       "  'mr',\n",
       "  'bennet',\n",
       "  'impossible',\n",
       "  'when',\n",
       "  'i',\n",
       "  'am',\n",
       "  'not',\n",
       "  'acquainted',\n",
       "  'with',\n",
       "  'him'])"
      ]
     },
     "execution_count": 11,
     "metadata": {},
     "output_type": "execute_result"
    }
   ],
   "source": [
    "words_in_line = clean_words(line)\n",
    "line, words_in_line"
   ]
  },
  {
   "cell_type": "markdown",
   "metadata": {},
   "source": [
    "## 建造包含每个单词的字典，用于One-hot编码"
   ]
  },
  {
   "cell_type": "code",
   "execution_count": 15,
   "metadata": {
    "ExecuteTime": {
     "end_time": "2021-02-06T02:47:24.925668Z",
     "start_time": "2021-02-06T02:47:24.873832Z"
    }
   },
   "outputs": [],
   "source": [
    "word_list = sorted(set(clean_words(text)))"
   ]
  },
  {
   "cell_type": "code",
   "execution_count": 16,
   "metadata": {
    "ExecuteTime": {
     "end_time": "2021-02-06T02:47:25.276491Z",
     "start_time": "2021-02-06T02:47:25.268512Z"
    }
   },
   "outputs": [
    {
     "data": {
      "text/plain": [
       "(7261, 3394)"
      ]
     },
     "execution_count": 16,
     "metadata": {},
     "output_type": "execute_result"
    }
   ],
   "source": [
    "\n",
    "word2index_dict = {word:i for (i, word) in enumerate(word_list)}\n",
    "len(word2index_dict), word2index_dict['impossible']"
   ]
  },
  {
   "cell_type": "code",
   "execution_count": 18,
   "metadata": {
    "ExecuteTime": {
     "end_time": "2021-02-06T02:51:20.899601Z",
     "start_time": "2021-02-06T02:51:20.891624Z"
    }
   },
   "outputs": [
    {
     "name": "stdout",
     "output_type": "stream",
     "text": [
      " 0 3394 impossible\n",
      " 1 4305 mr\n",
      " 2  813 bennet\n",
      " 3 3394 impossible\n",
      " 4 7078 when\n",
      " 5 3315 i\n",
      " 6  415 am\n",
      " 7 4436 not\n",
      " 8  239 acquainted\n",
      " 9 7148 with\n",
      "10 3215 him\n"
     ]
    }
   ],
   "source": [
    "word_t = torch.zeros(len(words_in_line), len(word2index_dict))\n",
    "for i, word in enumerate(words_in_line):\n",
    "    idx = word2index_dict[word]\n",
    "    word_t[i][idx] = 1\n",
    "    print('{:2} {:4} {}'.format(i, idx, word))"
   ]
  },
  {
   "cell_type": "code",
   "execution_count": 19,
   "metadata": {
    "ExecuteTime": {
     "end_time": "2021-02-06T03:52:02.358414Z",
     "start_time": "2021-02-06T03:52:02.343454Z"
    }
   },
   "outputs": [
    {
     "data": {
      "text/plain": [
       "'\\n使用单词表示和使用字母表示句子是常用的两种方法\\n者表达的含义更丰富，而后者需要考虑的类别少得多，也不需要考虑新单词的维护\\n下面介绍embedding\\n'"
      ]
     },
     "execution_count": 19,
     "metadata": {},
     "output_type": "execute_result"
    }
   ],
   "source": [
    "'''\n",
    "使用单词表示和使用字母表示句子是常用的两种方法\n",
    "者表达的含义更丰富，而后者需要考虑的类别少得多，也不需要考虑新单词的维护\n",
    "下面介绍embedding\n",
    "'''"
   ]
  },
  {
   "cell_type": "markdown",
   "metadata": {},
   "source": [
    "## embeding表示法"
   ]
  },
  {
   "cell_type": "code",
   "execution_count": 20,
   "metadata": {
    "ExecuteTime": {
     "end_time": "2021-02-06T04:04:43.900830Z",
     "start_time": "2021-02-06T04:04:43.864926Z"
    }
   },
   "outputs": [
    {
     "ename": "NameError",
     "evalue": "name '下略' is not defined",
     "output_type": "error",
     "traceback": [
      "\u001b[1;31m---------------------------------------------------------------------------\u001b[0m",
      "\u001b[1;31mNameError\u001b[0m                                 Traceback (most recent call last)",
      "\u001b[1;32m<ipython-input-20-f6f5ea73c54e>\u001b[0m in \u001b[0;36m<module>\u001b[1;34m\u001b[0m\n\u001b[0;32m      2\u001b[0m \u001b[1;31m#在相似上下文中使用的单词应具有较近的距离\u001b[0m\u001b[1;33m\u001b[0m\u001b[1;33m\u001b[0m\u001b[1;33m\u001b[0m\u001b[0m\n\u001b[0;32m      3\u001b[0m \u001b[1;31m#一般用one-hot表示单词后，再用神经网络计算embedding\u001b[0m\u001b[1;33m\u001b[0m\u001b[1;33m\u001b[0m\u001b[1;33m\u001b[0m\u001b[0m\n\u001b[1;32m----> 4\u001b[1;33m \u001b[0m下略\u001b[0m\u001b[1;33m\u001b[0m\u001b[1;33m\u001b[0m\u001b[0m\n\u001b[0m",
      "\u001b[1;31mNameError\u001b[0m: name '下略' is not defined"
     ]
    }
   ],
   "source": [
    "#用不同的浮点数来表示每个单词的权重\n",
    "#在相似上下文中使用的单词应具有较近的距离\n",
    "#一般用one-hot表示单词后，再用神经网络计算embedding\n",
    "下略"
   ]
  },
  {
   "cell_type": "markdown",
   "metadata": {},
   "source": [
    "# 视频文件的处理"
   ]
  },
  {
   "cell_type": "code",
   "execution_count": 21,
   "metadata": {
    "ExecuteTime": {
     "end_time": "2021-02-06T04:08:02.323990Z",
     "start_time": "2021-02-06T04:08:02.318992Z"
    }
   },
   "outputs": [],
   "source": [
    "import numpy as np\n",
    "import torch\n",
    "torch.set_printoptions(edgeitems=2, threshold= 50)"
   ]
  },
  {
   "cell_type": "markdown",
   "metadata": {},
   "source": [
    "When it comes to the shape of tensors, video data can be seen as equivalent to volumetric data, with depth replaced by the time dimension. The result is again a 5D tensor with shape N x C x T x H x W.\n",
    "\n",
    "There are several formats for video, especially geared towards compression by exploiting redundancies in space and time. Luckily for us, imageio reads video data as well. Suppose we'd like to retain 100 consecutive frames in our 512 x 512 RBG video for classifying an action using a convolutional neural network. We first create a reader instance for the video, that will allow us to get information about the video and iterate over the frames in time. Let's see what the meta data for the video looks like:"
   ]
  },
  {
   "cell_type": "code",
   "execution_count": 33,
   "metadata": {
    "ExecuteTime": {
     "end_time": "2021-02-06T04:21:06.001380Z",
     "start_time": "2021-02-06T04:21:04.960166Z"
    }
   },
   "outputs": [
    {
     "data": {
      "text/plain": [
       "{'plugin': 'ffmpeg',\n",
       " 'nframes': inf,\n",
       " 'ffmpeg_version': '4.2.2 built with gcc 9.2.1 (GCC) 20200122',\n",
       " 'codec': 'h264',\n",
       " 'pix_fmt': 'yuv444p',\n",
       " 'fps': 20.0,\n",
       " 'source_size': (1280, 720),\n",
       " 'size': (1280, 720),\n",
       " 'duration': 14.0}"
      ]
     },
     "execution_count": 33,
     "metadata": {},
     "output_type": "execute_result"
    }
   ],
   "source": [
    "import imageio\n",
    "\n",
    "reader = imageio.get_reader('../dlwpt-code-master/data/p1ch4/video-cockatoo/cockatoo.mp4')\n",
    "meta = reader.get_meta_data()\n",
    "meta"
   ]
  },
  {
   "cell_type": "code",
   "execution_count": 38,
   "metadata": {
    "ExecuteTime": {
     "end_time": "2021-02-06T04:23:44.441907Z",
     "start_time": "2021-02-06T04:23:44.357134Z"
    }
   },
   "outputs": [
    {
     "data": {
      "text/plain": [
       "torch.Size([3, 280, 1280, 720])"
      ]
     },
     "execution_count": 38,
     "metadata": {},
     "output_type": "execute_result"
    }
   ],
   "source": [
    "#so we can initialze an appropriate size tensor to hold it\n",
    "n_channels = 3\n",
    "n_frames = 280\n",
    "video = torch.empty(n_channels, n_frames, 1280, 720)\n",
    "video.shape"
   ]
  },
  {
   "cell_type": "code",
   "execution_count": 39,
   "metadata": {
    "ExecuteTime": {
     "end_time": "2021-02-06T04:24:10.253047Z",
     "start_time": "2021-02-06T04:23:53.460773Z"
    }
   },
   "outputs": [],
   "source": [
    "for i, per_frame in enumerate(reader):\n",
    "    frame = torch.from_numpy(per_frame).float()\n",
    "    \n",
    "    video[:,i] = frame.transpose(0, 2)"
   ]
  },
  {
   "cell_type": "markdown",
   "metadata": {},
   "source": [
    "# 音频文件的处理"
   ]
  },
  {
   "cell_type": "code",
   "execution_count": 41,
   "metadata": {
    "ExecuteTime": {
     "end_time": "2021-02-06T04:31:23.650806Z",
     "start_time": "2021-02-06T04:31:23.544092Z"
    }
   },
   "outputs": [
    {
     "data": {
      "text/plain": [
       "(44100, array([ -388, -3387, -4634, ...,  2289,  1327,    90], dtype=int16))"
      ]
     },
     "execution_count": 41,
     "metadata": {},
     "output_type": "execute_result"
    }
   ],
   "source": [
    "import scipy.io.wavfile as wavfile\n",
    "freq, wavform_addr = wavfile.read('../dlwpt-code-master/data/p1ch4/audio-chirp/1-100038-A-14.wav')\n",
    "freq, wavform_addr"
   ]
  },
  {
   "cell_type": "code",
   "execution_count": 44,
   "metadata": {
    "ExecuteTime": {
     "end_time": "2021-02-06T05:27:41.759761Z",
     "start_time": "2021-02-06T05:27:41.752781Z"
    }
   },
   "outputs": [
    {
     "data": {
      "text/plain": [
       "(tensor([ -388., -3387.,  ...,  1327.,    90.]), torch.Size([220500]))"
      ]
     },
     "execution_count": 44,
     "metadata": {},
     "output_type": "execute_result"
    }
   ],
   "source": [
    "wavform_tensor = torch.from_numpy(wavform_addr).float()\n",
    "wavform_tensor, wavform_tensor.shape"
   ]
  },
  {
   "cell_type": "code",
   "execution_count": 45,
   "metadata": {
    "ExecuteTime": {
     "end_time": "2021-02-06T05:31:40.077017Z",
     "start_time": "2021-02-06T05:31:40.058056Z"
    }
   },
   "outputs": [
    {
     "data": {
      "text/plain": [
       "tensor([[4.3517e+00, 1.4044e+00,  ..., 8.4661e-03, 7.7487e+00],\n",
       "        [4.4579e+01, 3.3186e+00,  ..., 1.2889e+01, 1.6912e+01],\n",
       "        ...,\n",
       "        [2.1429e-06, 1.4071e-06,  ..., 1.8314e-06, 1.0062e-06],\n",
       "        [5.5598e-06, 3.1114e-06,  ..., 6.3296e-07, 2.6184e-06]])"
      ]
     },
     "execution_count": 45,
     "metadata": {},
     "output_type": "execute_result"
    }
   ],
   "source": [
    "from scipy import signal\n",
    "f_arr, t_arr, sp_arr =signal.spectrogram(wavform_addr, freq)\n",
    "sp_moto = torch.from_numpy(sp_arr)\n",
    "sp_moto"
   ]
  },
  {
   "cell_type": "markdown",
   "metadata": {},
   "source": [
    "# exercise 1"
   ]
  },
  {
   "cell_type": "code",
   "execution_count": null,
   "metadata": {},
   "outputs": [],
   "source": [
    "import os\n",
    "data_dir = '../DL with PyTorch/data/image-cats'\n",
    "filenames = [name for name in os.listdir(data_dir) if os.path.splitext(name)[-1]=='.png']\n",
    "\n",
    "for i, filename in enumerate(filenames):\n",
    "    img_arr = imageio.imread(os.path.join(data_dir, filename))\n",
    "    img_t = torch.from_numpy(img_arr)\n",
    "    img_t = img_t.permute(2,0,1)\n",
    "    img_t = img_t[:3] #flit the alpha channel\n",
    "    batch[i] = img_t"
   ]
  },
  {
   "cell_type": "code",
   "execution_count": 46,
   "metadata": {
    "ExecuteTime": {
     "end_time": "2021-02-06T05:49:25.887120Z",
     "start_time": "2021-02-06T05:49:25.883130Z"
    }
   },
   "outputs": [],
   "source": [
    "import os \n",
    "data_dir = '../dlwpt-code-master/data/p1ch4/exercise'\n",
    "filenames = [name for name in os.listdir(data_dir) if os.path.splitext(name)[-1]=='.jpg']"
   ]
  },
  {
   "cell_type": "code",
   "execution_count": 64,
   "metadata": {
    "ExecuteTime": {
     "end_time": "2021-02-06T06:10:33.055843Z",
     "start_time": "2021-02-06T06:10:33.043889Z"
    }
   },
   "outputs": [
    {
     "data": {
      "text/plain": [
       "torch.Size([3, 714, 500])"
      ]
     },
     "execution_count": 64,
     "metadata": {},
     "output_type": "execute_result"
    }
   ],
   "source": [
    "red_arr = imageio.imread(data_dir+'/red.jpg')\n",
    "red_tensor = torch.from_numpy(red_arr)\n",
    "red_tensor = red_tensor.permute(2, 0, 1)\n",
    "red_tensor = red_tensor.float()\n",
    "red_tensor.shape"
   ]
  },
  {
   "cell_type": "code",
   "execution_count": 65,
   "metadata": {
    "ExecuteTime": {
     "end_time": "2021-02-06T06:10:45.287113Z",
     "start_time": "2021-02-06T06:10:45.276169Z"
    }
   },
   "outputs": [
    {
     "data": {
      "text/plain": [
       "torch.Size([3, 333, 500])"
      ]
     },
     "execution_count": 65,
     "metadata": {},
     "output_type": "execute_result"
    }
   ],
   "source": [
    "green_arr = imageio.imread(data_dir+'/green.jpg')\n",
    "green_tensor = torch.from_numpy(green_arr)\n",
    "green_tensor = green_tensor.permute(2, 0, 1)\n",
    "green_tensor = green_tensor.float()\n",
    "green_tensor.shape"
   ]
  },
  {
   "cell_type": "code",
   "execution_count": 66,
   "metadata": {
    "ExecuteTime": {
     "end_time": "2021-02-06T06:10:55.306299Z",
     "start_time": "2021-02-06T06:10:55.294332Z"
    }
   },
   "outputs": [
    {
     "data": {
      "text/plain": [
       "torch.Size([3, 350, 500])"
      ]
     },
     "execution_count": 66,
     "metadata": {},
     "output_type": "execute_result"
    }
   ],
   "source": [
    "blue_arr = imageio.imread(data_dir+'/blue.jpg')\n",
    "blue_tensor = torch.from_numpy(blue_arr)\n",
    "blue_tensor = blue_tensor.permute(2, 0, 1)\n",
    "blue_tensor = blue_tensor.float()\n",
    "blue_tensor.shape"
   ]
  },
  {
   "cell_type": "code",
   "execution_count": 67,
   "metadata": {
    "ExecuteTime": {
     "end_time": "2021-02-06T06:10:57.230151Z",
     "start_time": "2021-02-06T06:10:57.109475Z"
    }
   },
   "outputs": [
    {
     "data": {
      "text/plain": [
       "(tensor(92.7173), tensor(148.0162), tensor(50.8236))"
      ]
     },
     "execution_count": 67,
     "metadata": {},
     "output_type": "execute_result"
    }
   ],
   "source": [
    "red_tensor.mean(), blue_tensor.mean(), green_tensor.mean()"
   ]
  },
  {
   "cell_type": "code",
   "execution_count": 69,
   "metadata": {
    "ExecuteTime": {
     "end_time": "2021-02-06T06:14:37.568586Z",
     "start_time": "2021-02-06T06:14:37.558614Z"
    }
   },
   "outputs": [
    {
     "name": "stdout",
     "output_type": "stream",
     "text": [
      "tensor(195.0812)\n",
      "tensor(43.1465)\n",
      "tensor(39.9243)\n"
     ]
    }
   ],
   "source": [
    "for i in range(3):\n",
    "    print(red_tensor[i].mean())"
   ]
  },
  {
   "cell_type": "code",
   "execution_count": 70,
   "metadata": {
    "ExecuteTime": {
     "end_time": "2021-02-06T06:14:46.421894Z",
     "start_time": "2021-02-06T06:14:46.413916Z"
    }
   },
   "outputs": [
    {
     "name": "stdout",
     "output_type": "stream",
     "text": [
      "tensor(77.7464)\n",
      "tensor(157.5766)\n",
      "tensor(208.7257)\n"
     ]
    }
   ],
   "source": [
    "for i in range(3):\n",
    "    print(blue_tensor[i].mean())"
   ]
  },
  {
   "cell_type": "code",
   "execution_count": 71,
   "metadata": {
    "ExecuteTime": {
     "end_time": "2021-02-06T06:14:54.765565Z",
     "start_time": "2021-02-06T06:14:54.757588Z"
    }
   },
   "outputs": [
    {
     "name": "stdout",
     "output_type": "stream",
     "text": [
      "tensor(25.3634)\n",
      "tensor(114.2312)\n",
      "tensor(12.8762)\n"
     ]
    }
   ],
   "source": [
    "for i in range(3):\n",
    "    print(green_tensor[i].mean())"
   ]
  },
  {
   "cell_type": "markdown",
   "metadata": {},
   "source": [
    "# exercise 2"
   ]
  },
  {
   "cell_type": "code",
   "execution_count": 72,
   "metadata": {
    "ExecuteTime": {
     "end_time": "2021-02-06T06:21:26.982451Z",
     "start_time": "2021-02-06T06:21:26.776003Z"
    }
   },
   "outputs": [],
   "source": [
    "with open('../dlwpt-code-master/p2ch13_explore_data.ipynb', encoding='utf-8') as f:\n",
    "    text = f.read()"
   ]
  },
  {
   "cell_type": "code",
   "execution_count": 87,
   "metadata": {
    "ExecuteTime": {
     "end_time": "2021-02-06T06:28:32.849585Z",
     "start_time": "2021-02-06T06:28:32.835623Z"
    }
   },
   "outputs": [
    {
     "data": {
      "text/plain": [
       "'    \"from p2ch13.vis import build2dLungMask\\\\n\",'"
      ]
     },
     "execution_count": 87,
     "metadata": {},
     "output_type": "execute_result"
    }
   ],
   "source": [
    "lines = text.split('\\n')\n",
    "line = lines[34]\n",
    "line"
   ]
  },
  {
   "cell_type": "code",
   "execution_count": 88,
   "metadata": {
    "ExecuteTime": {
     "end_time": "2021-02-06T06:28:34.823304Z",
     "start_time": "2021-02-06T06:28:34.815325Z"
    },
    "scrolled": true
   },
   "outputs": [
    {
     "data": {
      "text/plain": [
       "torch.Size([47, 128])"
      ]
     },
     "execution_count": 88,
     "metadata": {},
     "output_type": "execute_result"
    }
   ],
   "source": [
    "letter_t = torch.zeros(len(line), 128)\n",
    "letter_t.shape"
   ]
  },
  {
   "cell_type": "code",
   "execution_count": 98,
   "metadata": {
    "ExecuteTime": {
     "end_time": "2021-02-06T06:33:45.473561Z",
     "start_time": "2021-02-06T06:33:45.466580Z"
    }
   },
   "outputs": [
    {
     "name": "stdout",
     "output_type": "stream",
     "text": [
      "34\n",
      "102\n",
      "114\n",
      "111\n",
      "109\n",
      "32\n",
      "112\n",
      "50\n",
      "99\n",
      "104\n",
      "49\n",
      "51\n",
      "46\n",
      "118\n",
      "105\n",
      "115\n",
      "32\n",
      "105\n",
      "109\n",
      "112\n",
      "111\n",
      "114\n",
      "116\n",
      "32\n",
      "98\n",
      "117\n",
      "105\n",
      "108\n",
      "100\n",
      "50\n",
      "100\n",
      "108\n",
      "117\n",
      "110\n",
      "103\n",
      "109\n",
      "97\n",
      "115\n",
      "107\n",
      "92\n",
      "110\n",
      "34\n",
      "44\n"
     ]
    }
   ],
   "source": [
    "for i, letter in enumerate(line.lower().strip()):\n",
    "    letter_idx = ord(letter) if ord(letter)<128 else 0\n",
    "    print(letter_idx)\n",
    "    letter_t[i][letter_idx] = 1"
   ]
  },
  {
   "cell_type": "code",
   "execution_count": 99,
   "metadata": {
    "ExecuteTime": {
     "end_time": "2021-02-06T06:34:49.131968Z",
     "start_time": "2021-02-06T06:34:49.126982Z"
    }
   },
   "outputs": [
    {
     "data": {
      "text/plain": [
       "tensor([[0., 0.,  ..., 0., 0.],\n",
       "        [0., 0.,  ..., 0., 0.],\n",
       "        ...,\n",
       "        [0., 0.,  ..., 0., 0.],\n",
       "        [0., 0.,  ..., 0., 0.]])"
      ]
     },
     "execution_count": 99,
     "metadata": {},
     "output_type": "execute_result"
    }
   ],
   "source": [
    "letter_t"
   ]
  },
  {
   "cell_type": "code",
   "execution_count": 102,
   "metadata": {
    "ExecuteTime": {
     "end_time": "2021-02-06T06:35:48.376435Z",
     "start_time": "2021-02-06T06:35:48.371449Z"
    }
   },
   "outputs": [],
   "source": [
    "# 定义一个预处理函数\n",
    "def clean_words(input_str):\n",
    "    punc = '.。,;:“”''\"\"!?_\\-'\n",
    "    word_list = input_str.lower().replace('\\n',' ').split()\n",
    "    word_list = [word.strip(punc) for word in word_list]\n",
    "    return word_list"
   ]
  },
  {
   "cell_type": "code",
   "execution_count": 103,
   "metadata": {
    "ExecuteTime": {
     "end_time": "2021-02-06T06:36:17.289627Z",
     "start_time": "2021-02-06T06:36:17.284641Z"
    },
    "scrolled": true
   },
   "outputs": [
    {
     "data": {
      "text/plain": [
       "('    \"from p2ch13.vis import build2dLungMask\\\\n\",',\n",
       " ['from', 'p2ch13.vis', 'import', 'build2dlungmask\\\\n'])"
      ]
     },
     "execution_count": 103,
     "metadata": {},
     "output_type": "execute_result"
    }
   ],
   "source": [
    "words_in_line = clean_words(line)\n",
    "line, words_in_line"
   ]
  },
  {
   "cell_type": "code",
   "execution_count": 83,
   "metadata": {
    "ExecuteTime": {
     "end_time": "2021-02-06T06:25:14.762892Z",
     "start_time": "2021-02-06T06:25:14.693079Z"
    }
   },
   "outputs": [],
   "source": [
    "word_list = sorted(set(clean_words(text)))"
   ]
  },
  {
   "cell_type": "code",
   "execution_count": 93,
   "metadata": {
    "ExecuteTime": {
     "end_time": "2021-02-06T06:29:06.273168Z",
     "start_time": "2021-02-06T06:29:06.267184Z"
    }
   },
   "outputs": [
    {
     "data": {
      "text/plain": [
       "(496, 222)"
      ]
     },
     "execution_count": 93,
     "metadata": {},
     "output_type": "execute_result"
    }
   ],
   "source": [
    "word2index_dict = {word:i for (i, word) in enumerate(word_list)}\n",
    "len(word2index_dict), word2index_dict['data']"
   ]
  },
  {
   "cell_type": "code",
   "execution_count": 94,
   "metadata": {
    "ExecuteTime": {
     "end_time": "2021-02-06T06:29:07.358265Z",
     "start_time": "2021-02-06T06:29:07.352281Z"
    }
   },
   "outputs": [
    {
     "name": "stdout",
     "output_type": "stream",
     "text": [
      " 0  251 from\n",
      " 1  365 p2ch13.vis\n",
      " 2  261 import\n",
      " 3  167 build2dlungmask\\n\n"
     ]
    }
   ],
   "source": [
    "word_t = torch.zeros(len(words_in_line), len(word2index_dict))\n",
    "for i, word in enumerate(words_in_line):\n",
    "    idx = word2index_dict[word]\n",
    "    word_t[i][idx] = 1\n",
    "    print('{:2} {:4} {}'.format(i, idx, word))"
   ]
  },
  {
   "cell_type": "code",
   "execution_count": null,
   "metadata": {},
   "outputs": [],
   "source": []
  }
 ],
 "metadata": {
  "kernelspec": {
   "display_name": "Python 3",
   "language": "python",
   "name": "python3"
  },
  "language_info": {
   "codemirror_mode": {
    "name": "ipython",
    "version": 3
   },
   "file_extension": ".py",
   "mimetype": "text/x-python",
   "name": "python",
   "nbconvert_exporter": "python",
   "pygments_lexer": "ipython3",
   "version": "3.7.9"
  },
  "toc": {
   "base_numbering": 1,
   "nav_menu": {},
   "number_sections": true,
   "sideBar": true,
   "skip_h1_title": false,
   "title_cell": "Table of Contents",
   "title_sidebar": "Contents",
   "toc_cell": false,
   "toc_position": {},
   "toc_section_display": true,
   "toc_window_display": false
  },
  "varInspector": {
   "cols": {
    "lenName": 16,
    "lenType": 16,
    "lenVar": 40
   },
   "kernels_config": {
    "python": {
     "delete_cmd_postfix": "",
     "delete_cmd_prefix": "del ",
     "library": "var_list.py",
     "varRefreshCmd": "print(var_dic_list())"
    },
    "r": {
     "delete_cmd_postfix": ") ",
     "delete_cmd_prefix": "rm(",
     "library": "var_list.r",
     "varRefreshCmd": "cat(var_dic_list()) "
    }
   },
   "types_to_exclude": [
    "module",
    "function",
    "builtin_function_or_method",
    "instance",
    "_Feature"
   ],
   "window_display": false
  }
 },
 "nbformat": 4,
 "nbformat_minor": 2
}
